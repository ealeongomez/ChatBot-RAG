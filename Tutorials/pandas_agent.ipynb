{
 "cells": [
  {
   "cell_type": "code",
   "execution_count": 63,
   "metadata": {},
   "outputs": [],
   "source": [
    "import pandas as pd\n",
    "import matplotlib.pyplot as plt\n",
    "import os\n",
    "from keys import config\n",
    "\n",
    "from langchain.llms import Ollama\n",
    "from langchain_openai import ChatOpenAI\n",
    "from langchain.agents.agent_types import AgentType\n",
    "from langchain_experimental.agents.agent_toolkits import create_pandas_dataframe_agent"
   ]
  },
  {
   "cell_type": "code",
   "execution_count": 81,
   "metadata": {},
   "outputs": [
    {
     "data": {
      "text/html": [
       "<div>\n",
       "<style scoped>\n",
       "    .dataframe tbody tr th:only-of-type {\n",
       "        vertical-align: middle;\n",
       "    }\n",
       "\n",
       "    .dataframe tbody tr th {\n",
       "        vertical-align: top;\n",
       "    }\n",
       "\n",
       "    .dataframe thead th {\n",
       "        text-align: right;\n",
       "    }\n",
       "</style>\n",
       "<table border=\"1\" class=\"dataframe\">\n",
       "  <thead>\n",
       "    <tr style=\"text-align: right;\">\n",
       "      <th></th>\n",
       "      <th>Unnamed: 0</th>\n",
       "      <th>hots_ip</th>\n",
       "      <th>host_name</th>\n",
       "      <th>name</th>\n",
       "      <th>timestamp</th>\n",
       "      <th>type</th>\n",
       "      <th>host_metric_detail</th>\n",
       "      <th>value</th>\n",
       "    </tr>\n",
       "  </thead>\n",
       "  <tbody>\n",
       "    <tr>\n",
       "      <th>0</th>\n",
       "      <td>0</td>\n",
       "      <td>172.30.5.133</td>\n",
       "      <td>vbogdtlobsvp03</td>\n",
       "      <td>CPU utilization</td>\n",
       "      <td>2024-11-21 20:32:47+00:00</td>\n",
       "      <td>host_metrics</td>\n",
       "      <td>cpu</td>\n",
       "      <td>5.282164</td>\n",
       "    </tr>\n",
       "    <tr>\n",
       "      <th>1</th>\n",
       "      <td>1</td>\n",
       "      <td>172.30.5.201</td>\n",
       "      <td>vbogevokeml01</td>\n",
       "      <td>CPU utilization</td>\n",
       "      <td>2024-11-21 20:32:49+00:00</td>\n",
       "      <td>host_metrics</td>\n",
       "      <td>cpu</td>\n",
       "      <td>10.214254</td>\n",
       "    </tr>\n",
       "    <tr>\n",
       "      <th>2</th>\n",
       "      <td>2</td>\n",
       "      <td>172.30.5.131</td>\n",
       "      <td>vbogdtlobsvp01</td>\n",
       "      <td>Memory utilization</td>\n",
       "      <td>2024-11-21 20:32:50+00:00</td>\n",
       "      <td>host_metrics</td>\n",
       "      <td>memory</td>\n",
       "      <td>29.665005</td>\n",
       "    </tr>\n",
       "    <tr>\n",
       "      <th>3</th>\n",
       "      <td>3</td>\n",
       "      <td>172.30.5.200</td>\n",
       "      <td>vbogmosbkp01</td>\n",
       "      <td>Memory utilization</td>\n",
       "      <td>2024-11-21 20:32:48+00:00</td>\n",
       "      <td>host_metrics</td>\n",
       "      <td>memory</td>\n",
       "      <td>28.104885</td>\n",
       "    </tr>\n",
       "    <tr>\n",
       "      <th>4</th>\n",
       "      <td>4</td>\n",
       "      <td>172.30.5.240</td>\n",
       "      <td>vbogevokemp02</td>\n",
       "      <td>Memory utilization</td>\n",
       "      <td>2024-11-21 20:32:49+00:00</td>\n",
       "      <td>host_metrics</td>\n",
       "      <td>memory</td>\n",
       "      <td>33.450832</td>\n",
       "    </tr>\n",
       "  </tbody>\n",
       "</table>\n",
       "</div>"
      ],
      "text/plain": [
       "   Unnamed: 0       hots_ip       host_name                name  \\\n",
       "0           0  172.30.5.133  vbogdtlobsvp03     CPU utilization   \n",
       "1           1  172.30.5.201   vbogevokeml01     CPU utilization   \n",
       "2           2  172.30.5.131  vbogdtlobsvp01  Memory utilization   \n",
       "3           3  172.30.5.200    vbogmosbkp01  Memory utilization   \n",
       "4           4  172.30.5.240   vbogevokemp02  Memory utilization   \n",
       "\n",
       "                   timestamp          type host_metric_detail      value  \n",
       "0  2024-11-21 20:32:47+00:00  host_metrics                cpu   5.282164  \n",
       "1  2024-11-21 20:32:49+00:00  host_metrics                cpu  10.214254  \n",
       "2  2024-11-21 20:32:50+00:00  host_metrics             memory  29.665005  \n",
       "3  2024-11-21 20:32:48+00:00  host_metrics             memory  28.104885  \n",
       "4  2024-11-21 20:32:49+00:00  host_metrics             memory  33.450832  "
      ]
     },
     "execution_count": 81,
     "metadata": {},
     "output_type": "execute_result"
    }
   ],
   "source": [
    "#df = pd.read_csv(\"../data/train.csv\")\n",
    "df = pd.read_csv(\"../data/JSON.csv\")\n",
    "\n",
    "df.head()"
   ]
  },
  {
   "cell_type": "code",
   "execution_count": 65,
   "metadata": {},
   "outputs": [],
   "source": [
    "LLM_Llama  = Ollama(model=\"llama3.2:1b\")\n",
    "LLM_OpenAI = ChatOpenAI(model=\"gpt-3.5-turbo\", temperature=0, max_tokens=None, timeout=None, max_retries=2, api_key=config.api_key)\n"
   ]
  },
  {
   "cell_type": "code",
   "execution_count": 79,
   "metadata": {},
   "outputs": [],
   "source": [
    "agent = create_pandas_dataframe_agent(llm=LLM_OpenAI, df=df, verbose=True, allow_dangerous_code=True)"
   ]
  },
  {
   "cell_type": "code",
   "execution_count": 80,
   "metadata": {},
   "outputs": [
    {
     "name": "stdout",
     "output_type": "stream",
     "text": [
      "\n",
      "\n",
      "\u001b[1m> Entering new AgentExecutor chain...\u001b[0m\n",
      "\u001b[32;1m\u001b[1;3mThought: To draw a bar graph of the 5 people with the highest age, we need to first sort the dataframe by age and then select the top 5 entries.\n",
      "Action: python_repl_ast\n",
      "Action Input: df_sorted = df.sort_values(by='Age', ascending=False).head(5)\u001b[0m\u001b[36;1m\u001b[1;3m\u001b[0m\u001b[32;1m\u001b[1;3mNow we have the top 5 entries sorted by age.\n",
      "Action: python_repl_ast\n",
      "Action Input: df_sorted.plot(kind='bar', x='Name', y='Age')\u001b[0m\u001b[36;1m\u001b[1;3mAxes(0.125,0.11;0.775x0.77)\u001b[0m\u001b[32;1m\u001b[1;3mThe bar graph has been successfully plotted.\n",
      "Final Answer: The bar graph of the 5 people with the highest age has been plotted.\u001b[0m\n",
      "\n",
      "\u001b[1m> Finished chain.\u001b[0m\n"
     ]
    },
    {
     "data": {
      "image/png": "[encoded data removed]",
      "text/plain": [
       "<Figure size 640x480 with 1 Axes>"
      ]
     },
     "metadata": {},
     "output_type": "display_data"
    }
   ],
   "source": [
    "question = \"¿Dibuja un gráfico de barras con las 5 personas con mayor edad?\"\n",
    "\n",
    "try: \n",
    "    respuesta = agent.invoke(question)\n",
    "except:\n",
    "    response=\"De acuerdo a mi conocimiento actual, no tengo la capacidad para responder a tu pregunta, por favor reformula tu pregunta.\"\n",
    "\n"
   ]
  },
  {
   "cell_type": "code",
   "execution_count": 78,
   "metadata": {},
   "outputs": [
    {
     "data": {
      "text/plain": [
       "'The bar graph of the 5 people with the highest age has been plotted.'"
      ]
     },
     "execution_count": 78,
     "metadata": {},
     "output_type": "execute_result"
    }
   ],
   "source": [
    "respuesta['output']"
   ]
  }
 ],
 "metadata": {
  "kernelspec": {
   "display_name": "venv",
   "language": "python",
   "name": "python3"
  },
  "language_info": {
   "codemirror_mode": {
    "name": "ipython",
    "version": 3
   },
   "file_extension": ".py",
   "mimetype": "text/x-python",
   "name": "python",
   "nbconvert_exporter": "python",
   "pygments_lexer": "ipython3",
   "version": "3.10.12"
  }
 },
 "nbformat": 4,
 "nbformat_minor": 2
}
