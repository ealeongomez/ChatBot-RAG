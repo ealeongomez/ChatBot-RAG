{
 "cells": [
  {
   "cell_type": "code",
   "execution_count": 1,
   "metadata": {},
   "outputs": [],
   "source": [
    "import pandas as pd\n",
    "import matplotlib.pyplot as plt\n",
    "import os, warnings, tiktoken\n",
    "from datetime import datetime, timezone\n",
    "from keys import config\n",
    "\n",
    "from langchain.llms import Ollama\n",
    "from langchain_openai import ChatOpenAI\n",
    "from langchain.prompts import ChatPromptTemplate, MessagesPlaceholder\n",
    "from langchain.agents.agent_types import AgentType\n",
    "from langchain_experimental.agents.agent_toolkits import create_pandas_dataframe_agent\n",
    "\n",
    "warnings.filterwarnings(\"ignore\")"
   ]
  },
  {
   "cell_type": "markdown",
   "metadata": {},
   "source": [
    "# **Load dataset**"
   ]
  },
  {
   "cell_type": "code",
   "execution_count": 2,
   "metadata": {},
   "outputs": [
    {
     "data": {
      "text/html": [
       "<div>\n",
       "<style scoped>\n",
       "    .dataframe tbody tr th:only-of-type {\n",
       "        vertical-align: middle;\n",
       "    }\n",
       "\n",
       "    .dataframe tbody tr th {\n",
       "        vertical-align: top;\n",
       "    }\n",
       "\n",
       "    .dataframe thead th {\n",
       "        text-align: right;\n",
       "    }\n",
       "</style>\n",
       "<table border=\"1\" class=\"dataframe\">\n",
       "  <thead>\n",
       "    <tr style=\"text-align: right;\">\n",
       "      <th></th>\n",
       "      <th>host_name</th>\n",
       "      <th>host_ip</th>\n",
       "      <th>metric_name</th>\n",
       "      <th>metric_category</th>\n",
       "      <th>metric_value</th>\n",
       "      <th>severity</th>\n",
       "      <th>timestamp</th>\n",
       "      <th>report_date</th>\n",
       "      <th>text</th>\n",
       "      <th>total_hosts</th>\n",
       "      <th>avg_cpu_usage</th>\n",
       "      <th>avg_memory_usage</th>\n",
       "      <th>avg_disk_usage</th>\n",
       "      <th>cpuWarningCount</th>\n",
       "      <th>cpuCriticalCount</th>\n",
       "      <th>memoryWarningCount</th>\n",
       "      <th>memoryCriticalCount</th>\n",
       "      <th>diskWarningCount</th>\n",
       "      <th>diskCriticalCount</th>\n",
       "    </tr>\n",
       "  </thead>\n",
       "  <tbody>\n",
       "    <tr>\n",
       "      <th>0</th>\n",
       "      <td>vbogevokesl02</td>\n",
       "      <td>172.30.5.203</td>\n",
       "      <td>NaN</td>\n",
       "      <td>Memoria</td>\n",
       "      <td>78.29</td>\n",
       "      <td>Advertencia</td>\n",
       "      <td>2024-12-11T10:42:29Z</td>\n",
       "      <td>2024-12-11T15:43:36.334868Z</td>\n",
       "      <td>Host: vbogevokesl02\\nIP: 172.30.5.203\\nMétrica...</td>\n",
       "      <td>NaN</td>\n",
       "      <td>NaN</td>\n",
       "      <td>NaN</td>\n",
       "      <td>NaN</td>\n",
       "      <td>NaN</td>\n",
       "      <td>NaN</td>\n",
       "      <td>NaN</td>\n",
       "      <td>NaN</td>\n",
       "      <td>NaN</td>\n",
       "      <td>NaN</td>\n",
       "    </tr>\n",
       "    <tr>\n",
       "      <th>1</th>\n",
       "      <td>vbogmosmonp01.mosaico.local</td>\n",
       "      <td>172.30.5.250</td>\n",
       "      <td>NaN</td>\n",
       "      <td>Memoria</td>\n",
       "      <td>75.23</td>\n",
       "      <td>Advertencia</td>\n",
       "      <td>2024-12-11T10:42:28Z</td>\n",
       "      <td>2024-12-11T15:43:36.334868Z</td>\n",
       "      <td>Host: vbogmosmonp01.mosaico.local\\nIP: 172.30....</td>\n",
       "      <td>NaN</td>\n",
       "      <td>NaN</td>\n",
       "      <td>NaN</td>\n",
       "      <td>NaN</td>\n",
       "      <td>NaN</td>\n",
       "      <td>NaN</td>\n",
       "      <td>NaN</td>\n",
       "      <td>NaN</td>\n",
       "      <td>NaN</td>\n",
       "      <td>NaN</td>\n",
       "    </tr>\n",
       "    <tr>\n",
       "      <th>2</th>\n",
       "      <td>vbogmosrasp01.mosaico.local</td>\n",
       "      <td>172.30.5.34</td>\n",
       "      <td>NaN</td>\n",
       "      <td>Memoria</td>\n",
       "      <td>84.34</td>\n",
       "      <td>Advertencia</td>\n",
       "      <td>2024-12-11T10:42:31Z</td>\n",
       "      <td>2024-12-11T15:43:36.334868Z</td>\n",
       "      <td>Host: vbogmosrasp01.mosaico.local\\nIP: 172.30....</td>\n",
       "      <td>NaN</td>\n",
       "      <td>NaN</td>\n",
       "      <td>NaN</td>\n",
       "      <td>NaN</td>\n",
       "      <td>NaN</td>\n",
       "      <td>NaN</td>\n",
       "      <td>NaN</td>\n",
       "      <td>NaN</td>\n",
       "      <td>NaN</td>\n",
       "      <td>NaN</td>\n",
       "    </tr>\n",
       "    <tr>\n",
       "      <th>3</th>\n",
       "      <td>vbogdtlobsvp09</td>\n",
       "      <td>172.30.5.139</td>\n",
       "      <td>NaN</td>\n",
       "      <td>Memoria</td>\n",
       "      <td>81.81</td>\n",
       "      <td>Advertencia</td>\n",
       "      <td>2024-12-11T10:41:59Z</td>\n",
       "      <td>2024-12-11T15:43:36.334868Z</td>\n",
       "      <td>Host: vbogdtlobsvp09\\nIP: 172.30.5.139\\nMétric...</td>\n",
       "      <td>NaN</td>\n",
       "      <td>NaN</td>\n",
       "      <td>NaN</td>\n",
       "      <td>NaN</td>\n",
       "      <td>NaN</td>\n",
       "      <td>NaN</td>\n",
       "      <td>NaN</td>\n",
       "      <td>NaN</td>\n",
       "      <td>NaN</td>\n",
       "      <td>NaN</td>\n",
       "    </tr>\n",
       "    <tr>\n",
       "      <th>4</th>\n",
       "      <td>vbogmoststp01.mosaico.local</td>\n",
       "      <td>172.30.5.249</td>\n",
       "      <td>NaN</td>\n",
       "      <td>Memoria</td>\n",
       "      <td>69.98</td>\n",
       "      <td>Normal</td>\n",
       "      <td>2024-12-11T10:41:40Z</td>\n",
       "      <td>2024-12-11T15:43:36.334868Z</td>\n",
       "      <td>Host: vbogmoststp01.mosaico.local\\nIP: 172.30....</td>\n",
       "      <td>NaN</td>\n",
       "      <td>NaN</td>\n",
       "      <td>NaN</td>\n",
       "      <td>NaN</td>\n",
       "      <td>NaN</td>\n",
       "      <td>NaN</td>\n",
       "      <td>NaN</td>\n",
       "      <td>NaN</td>\n",
       "      <td>NaN</td>\n",
       "      <td>NaN</td>\n",
       "    </tr>\n",
       "  </tbody>\n",
       "</table>\n",
       "</div>"
      ],
      "text/plain": [
       "                     host_name       host_ip metric_name metric_category  \\\n",
       "0                vbogevokesl02  172.30.5.203         NaN         Memoria   \n",
       "1  vbogmosmonp01.mosaico.local  172.30.5.250         NaN         Memoria   \n",
       "2  vbogmosrasp01.mosaico.local   172.30.5.34         NaN         Memoria   \n",
       "3               vbogdtlobsvp09  172.30.5.139         NaN         Memoria   \n",
       "4  vbogmoststp01.mosaico.local  172.30.5.249         NaN         Memoria   \n",
       "\n",
       "   metric_value     severity             timestamp  \\\n",
       "0         78.29  Advertencia  2024-12-11T10:42:29Z   \n",
       "1         75.23  Advertencia  2024-12-11T10:42:28Z   \n",
       "2         84.34  Advertencia  2024-12-11T10:42:31Z   \n",
       "3         81.81  Advertencia  2024-12-11T10:41:59Z   \n",
       "4         69.98       Normal  2024-12-11T10:41:40Z   \n",
       "\n",
       "                   report_date  \\\n",
       "0  2024-12-11T15:43:36.334868Z   \n",
       "1  2024-12-11T15:43:36.334868Z   \n",
       "2  2024-12-11T15:43:36.334868Z   \n",
       "3  2024-12-11T15:43:36.334868Z   \n",
       "4  2024-12-11T15:43:36.334868Z   \n",
       "\n",
       "                                                text  total_hosts  \\\n",
       "0  Host: vbogevokesl02\\nIP: 172.30.5.203\\nMétrica...          NaN   \n",
       "1  Host: vbogmosmonp01.mosaico.local\\nIP: 172.30....          NaN   \n",
       "2  Host: vbogmosrasp01.mosaico.local\\nIP: 172.30....          NaN   \n",
       "3  Host: vbogdtlobsvp09\\nIP: 172.30.5.139\\nMétric...          NaN   \n",
       "4  Host: vbogmoststp01.mosaico.local\\nIP: 172.30....          NaN   \n",
       "\n",
       "   avg_cpu_usage  avg_memory_usage  avg_disk_usage  cpuWarningCount  \\\n",
       "0            NaN               NaN             NaN              NaN   \n",
       "1            NaN               NaN             NaN              NaN   \n",
       "2            NaN               NaN             NaN              NaN   \n",
       "3            NaN               NaN             NaN              NaN   \n",
       "4            NaN               NaN             NaN              NaN   \n",
       "\n",
       "   cpuCriticalCount  memoryWarningCount  memoryCriticalCount  \\\n",
       "0               NaN                 NaN                  NaN   \n",
       "1               NaN                 NaN                  NaN   \n",
       "2               NaN                 NaN                  NaN   \n",
       "3               NaN                 NaN                  NaN   \n",
       "4               NaN                 NaN                  NaN   \n",
       "\n",
       "   diskWarningCount  diskCriticalCount  \n",
       "0               NaN                NaN  \n",
       "1               NaN                NaN  \n",
       "2               NaN                NaN  \n",
       "3               NaN                NaN  \n",
       "4               NaN                NaN  "
      ]
     },
     "execution_count": 2,
     "metadata": {},
     "output_type": "execute_result"
    }
   ],
   "source": [
    "df = pd.read_excel(\"../data/metadata_df.xlsx\")\n",
    "df.head()"
   ]
  },
  {
   "cell_type": "code",
   "execution_count": 3,
   "metadata": {},
   "outputs": [
    {
     "data": {
      "text/plain": [
       "Index(['host_name', 'host_ip', 'metric_name', 'metric_category',\n",
       "       'metric_value', 'severity', 'timestamp', 'report_date', 'text',\n",
       "       'total_hosts', 'avg_cpu_usage', 'avg_memory_usage', 'avg_disk_usage',\n",
       "       'cpuWarningCount', 'cpuCriticalCount', 'memoryWarningCount',\n",
       "       'memoryCriticalCount', 'diskWarningCount', 'diskCriticalCount'],\n",
       "      dtype='object')"
      ]
     },
     "execution_count": 3,
     "metadata": {},
     "output_type": "execute_result"
    }
   ],
   "source": [
    "df.columns"
   ]
  },
  {
   "cell_type": "code",
   "execution_count": 4,
   "metadata": {},
   "outputs": [],
   "source": [
    "df = df.drop(columns=[ 'total_hosts', 'avg_cpu_usage', 'avg_memory_usage', 'avg_disk_usage', 'cpuWarningCount', 'cpuCriticalCount', 'memoryWarningCount', 'memoryCriticalCount', 'diskWarningCount', 'diskCriticalCount'])"
   ]
  },
  {
   "cell_type": "code",
   "execution_count": 5,
   "metadata": {},
   "outputs": [
    {
     "data": {
      "text/html": [
       "<div>\n",
       "<style scoped>\n",
       "    .dataframe tbody tr th:only-of-type {\n",
       "        vertical-align: middle;\n",
       "    }\n",
       "\n",
       "    .dataframe tbody tr th {\n",
       "        vertical-align: top;\n",
       "    }\n",
       "\n",
       "    .dataframe thead th {\n",
       "        text-align: right;\n",
       "    }\n",
       "</style>\n",
       "<table border=\"1\" class=\"dataframe\">\n",
       "  <thead>\n",
       "    <tr style=\"text-align: right;\">\n",
       "      <th></th>\n",
       "      <th>host_name</th>\n",
       "      <th>host_ip</th>\n",
       "      <th>metric_name</th>\n",
       "      <th>metric_category</th>\n",
       "      <th>metric_value</th>\n",
       "      <th>severity</th>\n",
       "      <th>timestamp</th>\n",
       "      <th>report_date</th>\n",
       "      <th>text</th>\n",
       "    </tr>\n",
       "  </thead>\n",
       "  <tbody>\n",
       "    <tr>\n",
       "      <th>0</th>\n",
       "      <td>vbogevokesl02</td>\n",
       "      <td>172.30.5.203</td>\n",
       "      <td>NaN</td>\n",
       "      <td>Memoria</td>\n",
       "      <td>78.29</td>\n",
       "      <td>Advertencia</td>\n",
       "      <td>2024-12-11T10:42:29Z</td>\n",
       "      <td>2024-12-11T15:43:36.334868Z</td>\n",
       "      <td>Host: vbogevokesl02\\nIP: 172.30.5.203\\nMétrica...</td>\n",
       "    </tr>\n",
       "    <tr>\n",
       "      <th>1</th>\n",
       "      <td>vbogmosmonp01.mosaico.local</td>\n",
       "      <td>172.30.5.250</td>\n",
       "      <td>NaN</td>\n",
       "      <td>Memoria</td>\n",
       "      <td>75.23</td>\n",
       "      <td>Advertencia</td>\n",
       "      <td>2024-12-11T10:42:28Z</td>\n",
       "      <td>2024-12-11T15:43:36.334868Z</td>\n",
       "      <td>Host: vbogmosmonp01.mosaico.local\\nIP: 172.30....</td>\n",
       "    </tr>\n",
       "    <tr>\n",
       "      <th>2</th>\n",
       "      <td>vbogmosrasp01.mosaico.local</td>\n",
       "      <td>172.30.5.34</td>\n",
       "      <td>NaN</td>\n",
       "      <td>Memoria</td>\n",
       "      <td>84.34</td>\n",
       "      <td>Advertencia</td>\n",
       "      <td>2024-12-11T10:42:31Z</td>\n",
       "      <td>2024-12-11T15:43:36.334868Z</td>\n",
       "      <td>Host: vbogmosrasp01.mosaico.local\\nIP: 172.30....</td>\n",
       "    </tr>\n",
       "    <tr>\n",
       "      <th>3</th>\n",
       "      <td>vbogdtlobsvp09</td>\n",
       "      <td>172.30.5.139</td>\n",
       "      <td>NaN</td>\n",
       "      <td>Memoria</td>\n",
       "      <td>81.81</td>\n",
       "      <td>Advertencia</td>\n",
       "      <td>2024-12-11T10:41:59Z</td>\n",
       "      <td>2024-12-11T15:43:36.334868Z</td>\n",
       "      <td>Host: vbogdtlobsvp09\\nIP: 172.30.5.139\\nMétric...</td>\n",
       "    </tr>\n",
       "    <tr>\n",
       "      <th>4</th>\n",
       "      <td>vbogmoststp01.mosaico.local</td>\n",
       "      <td>172.30.5.249</td>\n",
       "      <td>NaN</td>\n",
       "      <td>Memoria</td>\n",
       "      <td>69.98</td>\n",
       "      <td>Normal</td>\n",
       "      <td>2024-12-11T10:41:40Z</td>\n",
       "      <td>2024-12-11T15:43:36.334868Z</td>\n",
       "      <td>Host: vbogmoststp01.mosaico.local\\nIP: 172.30....</td>\n",
       "    </tr>\n",
       "  </tbody>\n",
       "</table>\n",
       "</div>"
      ],
      "text/plain": [
       "                     host_name       host_ip metric_name metric_category  \\\n",
       "0                vbogevokesl02  172.30.5.203         NaN         Memoria   \n",
       "1  vbogmosmonp01.mosaico.local  172.30.5.250         NaN         Memoria   \n",
       "2  vbogmosrasp01.mosaico.local   172.30.5.34         NaN         Memoria   \n",
       "3               vbogdtlobsvp09  172.30.5.139         NaN         Memoria   \n",
       "4  vbogmoststp01.mosaico.local  172.30.5.249         NaN         Memoria   \n",
       "\n",
       "   metric_value     severity             timestamp  \\\n",
       "0         78.29  Advertencia  2024-12-11T10:42:29Z   \n",
       "1         75.23  Advertencia  2024-12-11T10:42:28Z   \n",
       "2         84.34  Advertencia  2024-12-11T10:42:31Z   \n",
       "3         81.81  Advertencia  2024-12-11T10:41:59Z   \n",
       "4         69.98       Normal  2024-12-11T10:41:40Z   \n",
       "\n",
       "                   report_date  \\\n",
       "0  2024-12-11T15:43:36.334868Z   \n",
       "1  2024-12-11T15:43:36.334868Z   \n",
       "2  2024-12-11T15:43:36.334868Z   \n",
       "3  2024-12-11T15:43:36.334868Z   \n",
       "4  2024-12-11T15:43:36.334868Z   \n",
       "\n",
       "                                                text  \n",
       "0  Host: vbogevokesl02\\nIP: 172.30.5.203\\nMétrica...  \n",
       "1  Host: vbogmosmonp01.mosaico.local\\nIP: 172.30....  \n",
       "2  Host: vbogmosrasp01.mosaico.local\\nIP: 172.30....  \n",
       "3  Host: vbogdtlobsvp09\\nIP: 172.30.5.139\\nMétric...  \n",
       "4  Host: vbogmoststp01.mosaico.local\\nIP: 172.30....  "
      ]
     },
     "execution_count": 5,
     "metadata": {},
     "output_type": "execute_result"
    }
   ],
   "source": [
    "df.head()"
   ]
  },
  {
   "cell_type": "markdown",
   "metadata": {},
   "source": [
    "# **Load model LLM**"
   ]
  },
  {
   "cell_type": "code",
   "execution_count": 31,
   "metadata": {},
   "outputs": [],
   "source": [
    "LLM_Llama  = Ollama(model=\"llama3.2:1b\")\n",
    "LLM_OpenAI = ChatOpenAI(model=\"gpt-3.5-turbo\", temperature=0, max_tokens=None, timeout=None, max_retries=2, api_key=config.api_key)"
   ]
  },
  {
   "cell_type": "code",
   "execution_count": 32,
   "metadata": {},
   "outputs": [],
   "source": [
    "#agent = create_pandas_dataframe_agent(llm=LLM_OpenAI, df=df, verbose=True, allow_dangerous_code=True)\n",
    "agent = create_pandas_dataframe_agent(llm=LLM_OpenAI, df=df, agent_type=\"openai-tools\",verbose=True, allow_dangerous_code=True)\n"
   ]
  },
  {
   "cell_type": "markdown",
   "metadata": {},
   "source": [
    "# **Example**"
   ]
  },
  {
   "cell_type": "code",
   "execution_count": 8,
   "metadata": {},
   "outputs": [
    {
     "name": "stdout",
     "output_type": "stream",
     "text": [
      "\n",
      "\n",
      "\u001b[1m> Entering new AgentExecutor chain...\u001b[0m\n",
      "\u001b[32;1m\u001b[1;3m\n",
      "Invoking: `python_repl_ast` with `{'query': \"df.groupby('host_name')['metric_value'].agg(['mean', 'var']).nlargest(5, 'mean')\"}`\n",
      "\n",
      "\n",
      "\u001b[0m\u001b[36;1m\u001b[1;3m                                  mean         var\n",
      "host_name                                         \n",
      "collector                    94.973727    9.943007\n",
      "vbogmosvbsp01                90.535631  133.874634\n",
      "vbogevokeml01                89.461600   56.776608\n",
      "vbogmosansp01.mosaico.local  88.839374    0.030018\n",
      "vbogmosmonp03.mosaico.local  88.481564    0.508696\u001b[0m\u001b[32;1m\u001b[1;3mLos 5 hosts con mayor consumo promedio son:\n",
      "1. collector con un consumo promedio de 94.97 y una varianza de 9.94\n",
      "2. vbogmosvbsp01 con un consumo promedio de 90.54 y una varianza de 133.87\n",
      "3. vbogevokeml01 con un consumo promedio de 89.46 y una varianza de 56.78\n",
      "4. vbogmosansp01.mosaico.local con un consumo promedio de 88.84 y una varianza de 0.03\n",
      "5. vbogmosmonp03.mosaico.local con un consumo promedio de 88.48 y una varianza de 0.51\u001b[0m\n",
      "\n",
      "\u001b[1m> Finished chain.\u001b[0m\n"
     ]
    },
    {
     "data": {
      "text/plain": [
       "{'input': 'Dame una descripción de la tabla con media y varianza por los 5 host de mayor consumo',\n",
       " 'output': 'Los 5 hosts con mayor consumo promedio son:\\n1. collector con un consumo promedio de 94.97 y una varianza de 9.94\\n2. vbogmosvbsp01 con un consumo promedio de 90.54 y una varianza de 133.87\\n3. vbogevokeml01 con un consumo promedio de 89.46 y una varianza de 56.78\\n4. vbogmosansp01.mosaico.local con un consumo promedio de 88.84 y una varianza de 0.03\\n5. vbogmosmonp03.mosaico.local con un consumo promedio de 88.48 y una varianza de 0.51'}"
      ]
     },
     "execution_count": 8,
     "metadata": {},
     "output_type": "execute_result"
    }
   ],
   "source": [
    "agent.invoke(\"Dame una descripción de la tabla con media y varianza por los 5 host de mayor consumo\")"
   ]
  },
  {
   "cell_type": "markdown",
   "metadata": {},
   "source": [
    "# **Prompt**"
   ]
  },
  {
   "cell_type": "code",
   "execution_count": 9,
   "metadata": {},
   "outputs": [],
   "source": [
    "TEMPLATE = \"\"\" Eres un asistente avanzado especializado en el análisis de datos tabulares. Tu misión es ayudar a los compañeros de trabajo a mejorar su experiencia y ayudarles\n",
    "La tabla actual tiene las siguientes columnas:\n",
    "\n",
    "- `host_name`: Nombre del host que generó el evento.\n",
    "- `host_ip`: Dirección IP del host.\n",
    "- `metric_name`: Nombre de la métrica registrada.\n",
    "- `metric_category`: Categoría de la métrica.\n",
    "- `metric_value`: Valor de la métrica registrada.\n",
    "- `severity`: Severidad del evento (por ejemplo, \"Advertencia\", \"Normal\").\n",
    "- `timestamp`: Marca temporal del evento.\n",
    "- `report_date`: Fecha y hora en que se generó el reporte.\n",
    "- `text`: Descripción adicional sobre el evento.\n",
    "\n",
    "Tus respuestas deben seguir estas reglas, siempre y UNICAMENTE IDIOMA ESPAÑOL:\n",
    "\n",
    "1. Respuestas textuales simples:\n",
    "   Si la consulta requiere una respuesta breve coco saludar, lo que no involucra gráficos ni tablas usa este formato:\n",
    "   {\"respuesta\": \"Tu respuesta aquí en IDIOMA ESPAÑOL\"}\n",
    "\n",
    "   Ejemplo:\n",
    "   {\"respuesta\": \"La columna 'ventas' tiene el valor promedio más alto.\"}\n",
    "\n",
    "2. Si la consulta requiere una tabla, formatee su respuesta usando este formato json:\n",
    "   {\"tabla\": {\"columna\": [\"nombre_columna1\", \"nombre_columna2\", ...], \"data\": [[valor1, valor2, ...], [valor1, valor2, ...], ...]}}\n",
    "   Ejemplo:\n",
    "   {\"tabla\": {\"columna\": [\"host_name\", \"metric_value\", \"severity\"], \"data\": [[\"vbogmosrasp01.mosaico.local\", 84.34, \"Advertencia\"], [\"vbogdtlobsvp09\", 81.81, \"Advertencia\"]]}}\n",
    "\n",
    "3.  Para respuestas que requieren gráficos, responda de esta manera:\n",
    "   - Para gráficos de barras, usa:\n",
    "   {\"bar\": {\"columns\": [\"EjeX1\", \"EjeX2\", ...], \"data\": [valor1, valor2, ...]}}\n",
    "   Ejemplo:\n",
    "   {\"bar\": {\"columna\": [\"vbogmosrasp01.mosaico.local\", \"vbogdtlobsvp09\"], \"data\": [84.34, 81.81]}}\n",
    "   - Para gráficos de líneas, usa:\n",
    "   {\"linea\": {\"columna\": [\"EjeX1\", \"EjeX2\", ...], \"data\": [valor1, valor2, ...]}}\n",
    "   \n",
    "4. Errores o falta de datos: Si no puedes responder la consulta por falta de información, usa este formato:\n",
    "   {\"error\": \"No se encontró suficiente información para responder la consulta.\"}\n",
    "\n",
    "**Tu tarea principal es interpretar preguntas y responder UNICAMENTE EN IDIOMA ESPAÑOL de acuerdo con los formatos anteriores, utilizando las columnas y datos de la tabla que te proporcionaré.*** \n",
    "\"\"\""
   ]
  },
  {
   "cell_type": "code",
   "execution_count": 10,
   "metadata": {},
   "outputs": [],
   "source": [
    "model_name = \"gpt-3.5-turbo\"\n",
    "encoding = tiktoken.encoding_for_model(model_name)"
   ]
  },
  {
   "cell_type": "code",
   "execution_count": 11,
   "metadata": {},
   "outputs": [
    {
     "name": "stdout",
     "output_type": "stream",
     "text": [
      "667\n"
     ]
    }
   ],
   "source": [
    "token_count = len(encoding.encode(TEMPLATE))\n",
    "print(token_count)"
   ]
  },
  {
   "cell_type": "markdown",
   "metadata": {},
   "source": [
    "# **ChatBot**"
   ]
  },
  {
   "cell_type": "code",
   "execution_count": 40,
   "metadata": {},
   "outputs": [],
   "source": [
    "question = \"Dame una grafica bar con los 5 hosts con mayor consumo de memoria dandome una descripción\"\n",
    "\n",
    "prompt = ChatPromptTemplate.from_messages([\n",
    "    (\"system\", TEMPLATE),\n",
    "    (\"human\", question)  # Aquí usamos una variable para la entrada del usuario\n",
    "])"
   ]
  },
  {
   "cell_type": "code",
   "execution_count": 41,
   "metadata": {},
   "outputs": [
    {
     "name": "stdout",
     "output_type": "stream",
     "text": [
      "\n",
      "\n",
      "\u001b[1m> Entering new AgentExecutor chain...\u001b[0m\n",
      "\u001b[32;1m\u001b[1;3m{\"bar\": {\"columns\": [\"host_name\", \"metric_value\"], \"data\": [[\"vbogmosrasp01.mosaico.local\", 84.34], [\"vbogdtlobsvp09\", 81.81], [\"vbogevokesl02\", 78.29], [\"vbogmosmonp01.mosaico.local\", 75.23], [\"vbogmoststp01.mosaico.local\", 69.98]]}}\u001b[0m\n",
      "\n",
      "\u001b[1m> Finished chain.\u001b[0m\n"
     ]
    }
   ],
   "source": [
    "respuesta = agent.invoke({\"input\": prompt})"
   ]
  },
  {
   "cell_type": "code",
   "execution_count": 42,
   "metadata": {},
   "outputs": [
    {
     "data": {
      "text/plain": [
       "'{\"bar\": {\"columns\": [\"host_name\", \"metric_value\"], \"data\": [[\"vbogmosrasp01.mosaico.local\", 84.34], [\"vbogdtlobsvp09\", 81.81], [\"vbogevokesl02\", 78.29], [\"vbogmosmonp01.mosaico.local\", 75.23], [\"vbogmoststp01.mosaico.local\", 69.98]]}}'"
      ]
     },
     "execution_count": 42,
     "metadata": {},
     "output_type": "execute_result"
    }
   ],
   "source": [
    "respuesta['output']"
   ]
  }
 ],
 "metadata": {
  "kernelspec": {
   "display_name": "venv",
   "language": "python",
   "name": "python3"
  },
  "language_info": {
   "codemirror_mode": {
    "name": "ipython",
    "version": 3
   },
   "file_extension": ".py",
   "mimetype": "text/x-python",
   "name": "python",
   "nbconvert_exporter": "python",
   "pygments_lexer": "ipython3",
   "version": "3.13.1"
  }
 },
 "nbformat": 4,
 "nbformat_minor": 2
}
