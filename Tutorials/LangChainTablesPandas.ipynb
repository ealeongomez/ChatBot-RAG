{
 "cells": [
  {
   "cell_type": "code",
   "execution_count": 1,
   "metadata": {},
   "outputs": [],
   "source": [
    "import pandas as pd\n",
    "import matplotlib.pyplot as plt\n",
    "import warnings, tiktoken\n",
    "from datetime import datetime, timezone\n",
    "from keys import config\n",
    "\n",
    "from langchain.llms import Ollama\n",
    "from langchain_openai import ChatOpenAI\n",
    "from langchain.prompts import ChatPromptTemplate, MessagesPlaceholder\n",
    "from langchain import PromptTemplate, LLMChain\n",
    "\n",
    "from langchain.agents.agent_types import AgentType\n",
    "from langchain_experimental.agents.agent_toolkits import create_pandas_dataframe_agent\n",
    "\n",
    "warnings.filterwarnings(\"ignore\")"
   ]
  },
  {
   "cell_type": "markdown",
   "metadata": {},
   "source": [
    "# **Load dataset**"
   ]
  },
  {
   "cell_type": "code",
   "execution_count": 2,
   "metadata": {},
   "outputs": [
    {
     "data": {
      "text/html": [
       "<div>\n",
       "<style scoped>\n",
       "    .dataframe tbody tr th:only-of-type {\n",
       "        vertical-align: middle;\n",
       "    }\n",
       "\n",
       "    .dataframe tbody tr th {\n",
       "        vertical-align: top;\n",
       "    }\n",
       "\n",
       "    .dataframe thead th {\n",
       "        text-align: right;\n",
       "    }\n",
       "</style>\n",
       "<table border=\"1\" class=\"dataframe\">\n",
       "  <thead>\n",
       "    <tr style=\"text-align: right;\">\n",
       "      <th></th>\n",
       "      <th>Name</th>\n",
       "      <th>IP</th>\n",
       "      <th>Date</th>\n",
       "      <th>Memory Min</th>\n",
       "      <th>Memory Max</th>\n",
       "      <th>Memory Avg</th>\n",
       "      <th>Disk Min</th>\n",
       "      <th>Disk Max</th>\n",
       "      <th>Disk Avg</th>\n",
       "      <th>CPU Min</th>\n",
       "      <th>CPU Max</th>\n",
       "      <th>CPU Avg</th>\n",
       "      <th>GPU Min</th>\n",
       "      <th>GPU Max</th>\n",
       "      <th>GPU Avg</th>\n",
       "    </tr>\n",
       "  </thead>\n",
       "  <tbody>\n",
       "    <tr>\n",
       "      <th>0</th>\n",
       "      <td>vbogdtlobsvp02</td>\n",
       "      <td>172.30.5.132</td>\n",
       "      <td>2025-01-07T14:17:57.000Z</td>\n",
       "      <td>0.0</td>\n",
       "      <td>19.729494</td>\n",
       "      <td>9.541167</td>\n",
       "      <td>0</td>\n",
       "      <td>0</td>\n",
       "      <td>0</td>\n",
       "      <td>0.0</td>\n",
       "      <td>16.382360</td>\n",
       "      <td>4.221615</td>\n",
       "      <td>0</td>\n",
       "      <td>0</td>\n",
       "      <td>0</td>\n",
       "    </tr>\n",
       "    <tr>\n",
       "      <th>1</th>\n",
       "      <td>vbogevoprxp01</td>\n",
       "      <td>172.30.5.241</td>\n",
       "      <td>2025-01-07T14:17:56.000Z</td>\n",
       "      <td>0.0</td>\n",
       "      <td>34.577225</td>\n",
       "      <td>14.523084</td>\n",
       "      <td>0</td>\n",
       "      <td>0</td>\n",
       "      <td>0</td>\n",
       "      <td>0.0</td>\n",
       "      <td>19.297779</td>\n",
       "      <td>3.753499</td>\n",
       "      <td>0</td>\n",
       "      <td>0</td>\n",
       "      <td>0</td>\n",
       "    </tr>\n",
       "    <tr>\n",
       "      <th>2</th>\n",
       "      <td>collector</td>\n",
       "      <td>172.30.5.246</td>\n",
       "      <td>2025-01-07T14:17:53.000Z</td>\n",
       "      <td>0.0</td>\n",
       "      <td>33.836704</td>\n",
       "      <td>15.296433</td>\n",
       "      <td>0</td>\n",
       "      <td>0</td>\n",
       "      <td>0</td>\n",
       "      <td>0.0</td>\n",
       "      <td>38.552620</td>\n",
       "      <td>7.427592</td>\n",
       "      <td>0</td>\n",
       "      <td>0</td>\n",
       "      <td>0</td>\n",
       "    </tr>\n",
       "    <tr>\n",
       "      <th>3</th>\n",
       "      <td>vbogdtlobsvp01</td>\n",
       "      <td>172.30.5.131</td>\n",
       "      <td>2025-01-07T14:17:50.000Z</td>\n",
       "      <td>0.0</td>\n",
       "      <td>32.901337</td>\n",
       "      <td>16.013852</td>\n",
       "      <td>0</td>\n",
       "      <td>0</td>\n",
       "      <td>0</td>\n",
       "      <td>0.0</td>\n",
       "      <td>34.544769</td>\n",
       "      <td>3.372553</td>\n",
       "      <td>0</td>\n",
       "      <td>0</td>\n",
       "      <td>0</td>\n",
       "    </tr>\n",
       "    <tr>\n",
       "      <th>4</th>\n",
       "      <td>vbogdtlobsvp03</td>\n",
       "      <td>172.30.5.133</td>\n",
       "      <td>2025-01-07T14:17:47.000Z</td>\n",
       "      <td>0.0</td>\n",
       "      <td>17.728832</td>\n",
       "      <td>8.394328</td>\n",
       "      <td>0</td>\n",
       "      <td>0</td>\n",
       "      <td>0</td>\n",
       "      <td>0.0</td>\n",
       "      <td>9.947598</td>\n",
       "      <td>1.010941</td>\n",
       "      <td>0</td>\n",
       "      <td>0</td>\n",
       "      <td>0</td>\n",
       "    </tr>\n",
       "  </tbody>\n",
       "</table>\n",
       "</div>"
      ],
      "text/plain": [
       "             Name            IP                      Date  Memory Min  \\\n",
       "0  vbogdtlobsvp02  172.30.5.132  2025-01-07T14:17:57.000Z         0.0   \n",
       "1   vbogevoprxp01  172.30.5.241  2025-01-07T14:17:56.000Z         0.0   \n",
       "2       collector  172.30.5.246  2025-01-07T14:17:53.000Z         0.0   \n",
       "3  vbogdtlobsvp01  172.30.5.131  2025-01-07T14:17:50.000Z         0.0   \n",
       "4  vbogdtlobsvp03  172.30.5.133  2025-01-07T14:17:47.000Z         0.0   \n",
       "\n",
       "   Memory Max  Memory Avg  Disk Min  Disk Max  Disk Avg  CPU Min    CPU Max  \\\n",
       "0   19.729494    9.541167         0         0         0      0.0  16.382360   \n",
       "1   34.577225   14.523084         0         0         0      0.0  19.297779   \n",
       "2   33.836704   15.296433         0         0         0      0.0  38.552620   \n",
       "3   32.901337   16.013852         0         0         0      0.0  34.544769   \n",
       "4   17.728832    8.394328         0         0         0      0.0   9.947598   \n",
       "\n",
       "    CPU Avg  GPU Min  GPU Max  GPU Avg  \n",
       "0  4.221615        0        0        0  \n",
       "1  3.753499        0        0        0  \n",
       "2  7.427592        0        0        0  \n",
       "3  3.372553        0        0        0  \n",
       "4  1.010941        0        0        0  "
      ]
     },
     "execution_count": 2,
     "metadata": {},
     "output_type": "execute_result"
    }
   ],
   "source": [
    "df = pd.read_excel(\"../data/tableElastic.xlsx\", engine='openpyxl')\n",
    "df.head()"
   ]
  },
  {
   "cell_type": "code",
   "execution_count": 3,
   "metadata": {},
   "outputs": [
    {
     "data": {
      "text/plain": [
       "Index(['Name', 'IP', 'Date', 'Memory Min', 'Memory Max', 'Memory Avg',\n",
       "       'Disk Min', 'Disk Max', 'Disk Avg', 'CPU Min', 'CPU Max', 'CPU Avg',\n",
       "       'GPU Min', 'GPU Max', 'GPU Avg'],\n",
       "      dtype='object')"
      ]
     },
     "execution_count": 3,
     "metadata": {},
     "output_type": "execute_result"
    }
   ],
   "source": [
    "df.columns"
   ]
  },
  {
   "cell_type": "code",
   "execution_count": 4,
   "metadata": {},
   "outputs": [
    {
     "data": {
      "text/html": [
       "<div>\n",
       "<style scoped>\n",
       "    .dataframe tbody tr th:only-of-type {\n",
       "        vertical-align: middle;\n",
       "    }\n",
       "\n",
       "    .dataframe tbody tr th {\n",
       "        vertical-align: top;\n",
       "    }\n",
       "\n",
       "    .dataframe thead th {\n",
       "        text-align: right;\n",
       "    }\n",
       "</style>\n",
       "<table border=\"1\" class=\"dataframe\">\n",
       "  <thead>\n",
       "    <tr style=\"text-align: right;\">\n",
       "      <th></th>\n",
       "      <th>Name</th>\n",
       "      <th>IP</th>\n",
       "      <th>Date</th>\n",
       "      <th>Memory Min</th>\n",
       "      <th>Memory Max</th>\n",
       "      <th>Memory Avg</th>\n",
       "      <th>Disk Min</th>\n",
       "      <th>Disk Max</th>\n",
       "      <th>Disk Avg</th>\n",
       "      <th>CPU Min</th>\n",
       "      <th>CPU Max</th>\n",
       "      <th>CPU Avg</th>\n",
       "      <th>GPU Min</th>\n",
       "      <th>GPU Max</th>\n",
       "      <th>GPU Avg</th>\n",
       "    </tr>\n",
       "  </thead>\n",
       "  <tbody>\n",
       "    <tr>\n",
       "      <th>0</th>\n",
       "      <td>vbogdtlobsvp02</td>\n",
       "      <td>172.30.5.132</td>\n",
       "      <td>2025-01-07T14:17:57.000Z</td>\n",
       "      <td>0.0</td>\n",
       "      <td>19.729494</td>\n",
       "      <td>9.541167</td>\n",
       "      <td>0</td>\n",
       "      <td>0</td>\n",
       "      <td>0</td>\n",
       "      <td>0.0</td>\n",
       "      <td>16.382360</td>\n",
       "      <td>4.221615</td>\n",
       "      <td>0</td>\n",
       "      <td>0</td>\n",
       "      <td>0</td>\n",
       "    </tr>\n",
       "    <tr>\n",
       "      <th>1</th>\n",
       "      <td>vbogevoprxp01</td>\n",
       "      <td>172.30.5.241</td>\n",
       "      <td>2025-01-07T14:17:56.000Z</td>\n",
       "      <td>0.0</td>\n",
       "      <td>34.577225</td>\n",
       "      <td>14.523084</td>\n",
       "      <td>0</td>\n",
       "      <td>0</td>\n",
       "      <td>0</td>\n",
       "      <td>0.0</td>\n",
       "      <td>19.297779</td>\n",
       "      <td>3.753499</td>\n",
       "      <td>0</td>\n",
       "      <td>0</td>\n",
       "      <td>0</td>\n",
       "    </tr>\n",
       "    <tr>\n",
       "      <th>2</th>\n",
       "      <td>collector</td>\n",
       "      <td>172.30.5.246</td>\n",
       "      <td>2025-01-07T14:17:53.000Z</td>\n",
       "      <td>0.0</td>\n",
       "      <td>33.836704</td>\n",
       "      <td>15.296433</td>\n",
       "      <td>0</td>\n",
       "      <td>0</td>\n",
       "      <td>0</td>\n",
       "      <td>0.0</td>\n",
       "      <td>38.552620</td>\n",
       "      <td>7.427592</td>\n",
       "      <td>0</td>\n",
       "      <td>0</td>\n",
       "      <td>0</td>\n",
       "    </tr>\n",
       "    <tr>\n",
       "      <th>3</th>\n",
       "      <td>vbogdtlobsvp01</td>\n",
       "      <td>172.30.5.131</td>\n",
       "      <td>2025-01-07T14:17:50.000Z</td>\n",
       "      <td>0.0</td>\n",
       "      <td>32.901337</td>\n",
       "      <td>16.013852</td>\n",
       "      <td>0</td>\n",
       "      <td>0</td>\n",
       "      <td>0</td>\n",
       "      <td>0.0</td>\n",
       "      <td>34.544769</td>\n",
       "      <td>3.372553</td>\n",
       "      <td>0</td>\n",
       "      <td>0</td>\n",
       "      <td>0</td>\n",
       "    </tr>\n",
       "    <tr>\n",
       "      <th>4</th>\n",
       "      <td>vbogdtlobsvp03</td>\n",
       "      <td>172.30.5.133</td>\n",
       "      <td>2025-01-07T14:17:47.000Z</td>\n",
       "      <td>0.0</td>\n",
       "      <td>17.728832</td>\n",
       "      <td>8.394328</td>\n",
       "      <td>0</td>\n",
       "      <td>0</td>\n",
       "      <td>0</td>\n",
       "      <td>0.0</td>\n",
       "      <td>9.947598</td>\n",
       "      <td>1.010941</td>\n",
       "      <td>0</td>\n",
       "      <td>0</td>\n",
       "      <td>0</td>\n",
       "    </tr>\n",
       "  </tbody>\n",
       "</table>\n",
       "</div>"
      ],
      "text/plain": [
       "             Name            IP                      Date  Memory Min  \\\n",
       "0  vbogdtlobsvp02  172.30.5.132  2025-01-07T14:17:57.000Z         0.0   \n",
       "1   vbogevoprxp01  172.30.5.241  2025-01-07T14:17:56.000Z         0.0   \n",
       "2       collector  172.30.5.246  2025-01-07T14:17:53.000Z         0.0   \n",
       "3  vbogdtlobsvp01  172.30.5.131  2025-01-07T14:17:50.000Z         0.0   \n",
       "4  vbogdtlobsvp03  172.30.5.133  2025-01-07T14:17:47.000Z         0.0   \n",
       "\n",
       "   Memory Max  Memory Avg  Disk Min  Disk Max  Disk Avg  CPU Min    CPU Max  \\\n",
       "0   19.729494    9.541167         0         0         0      0.0  16.382360   \n",
       "1   34.577225   14.523084         0         0         0      0.0  19.297779   \n",
       "2   33.836704   15.296433         0         0         0      0.0  38.552620   \n",
       "3   32.901337   16.013852         0         0         0      0.0  34.544769   \n",
       "4   17.728832    8.394328         0         0         0      0.0   9.947598   \n",
       "\n",
       "    CPU Avg  GPU Min  GPU Max  GPU Avg  \n",
       "0  4.221615        0        0        0  \n",
       "1  3.753499        0        0        0  \n",
       "2  7.427592        0        0        0  \n",
       "3  3.372553        0        0        0  \n",
       "4  1.010941        0        0        0  "
      ]
     },
     "execution_count": 4,
     "metadata": {},
     "output_type": "execute_result"
    }
   ],
   "source": [
    "df.head()"
   ]
  },
  {
   "cell_type": "markdown",
   "metadata": {},
   "source": [
    "# **Load LLM model**"
   ]
  },
  {
   "cell_type": "code",
   "execution_count": 5,
   "metadata": {},
   "outputs": [],
   "source": [
    "LLM_Llama  = Ollama(model=\"llama3.2:1b\")\n",
    "LLM_OpenAI = ChatOpenAI(model=\"gpt-3.5-turbo\", temperature=0, max_tokens=None, timeout=None, max_retries=2, api_key=config.api_key)"
   ]
  },
  {
   "cell_type": "code",
   "execution_count": 6,
   "metadata": {},
   "outputs": [],
   "source": [
    "agent = create_pandas_dataframe_agent(llm=LLM_OpenAI, df=df, agent_type=\"openai-tools\",verbose=True, allow_dangerous_code=True)"
   ]
  },
  {
   "cell_type": "markdown",
   "metadata": {},
   "source": [
    "# **Pruebas**"
   ]
  },
  {
   "cell_type": "code",
   "execution_count": 7,
   "metadata": {},
   "outputs": [
    {
     "name": "stdout",
     "output_type": "stream",
     "text": [
      "\n",
      "\n",
      "\u001b[1m> Entering new AgentExecutor chain...\u001b[0m\n",
      "\u001b[32;1m\u001b[1;3m\n",
      "Invoking: `python_repl_ast` with `{'query': \"df.groupby('Name')[['CPU Avg']].mean().nlargest(5, 'CPU Avg')\"}`\n",
      "\n",
      "\n",
      "\u001b[0m\u001b[36;1m\u001b[1;3m                  CPU Avg\n",
      "Name                     \n",
      "vbogdtlobsvp08  23.387892\n",
      "Zabbix server   23.345293\n",
      "vbogevokesl03   16.569246\n",
      "vbogmosmonp02   14.979116\n",
      "vbogevokesl02   13.111357\u001b[0m\u001b[32;1m\u001b[1;3m\n",
      "Invoking: `python_repl_ast` with `{'query': \"df[df['Name'].isin(['vbogdtlobsvp08', 'Zabbix server', 'vbogevokesl03', 'vbogmosmonp02', 'vbogevokesl02'])][['CPU Avg']].var()\"}`\n",
      "\n",
      "\n",
      "\u001b[0m\u001b[36;1m\u001b[1;3mCPU Avg    23.071282\n",
      "dtype: float64\u001b[0m\u001b[32;1m\u001b[1;3m\n",
      "Invoking: `python_repl_ast` with `{'query': \"df[df['Name'].isin(['vbogdtlobsvp08', 'Zabbix server', 'vbogevokesl03', 'vbogmosmonp02', 'vbogevokesl02'])][['CPU Avg']].mean()\"}`\n",
      "\n",
      "\n",
      "\u001b[0m\u001b[36;1m\u001b[1;3mCPU Avg    18.278581\n",
      "dtype: float64\u001b[0m\u001b[32;1m\u001b[1;3mLos 5 hosts de mayor consumo de CPU son:\n",
      "\n",
      "1. vbogdtlobsvp08\n",
      "2. Zabbix server\n",
      "3. vbogevokesl03\n",
      "4. vbogmosmonp02\n",
      "5. vbogevokesl02\n",
      "\n",
      "Para estos hosts, la media de consumo de CPU es de aproximadamente 18.28 y la varianza es de aproximadamente 23.07.\u001b[0m\n",
      "\n",
      "\u001b[1m> Finished chain.\u001b[0m\n"
     ]
    }
   ],
   "source": [
    "response = agent.invoke(\"Dame una descripción de la tabla con media y varianza por los 5 host de mayor consumo de CPU\")"
   ]
  },
  {
   "cell_type": "code",
   "execution_count": 8,
   "metadata": {},
   "outputs": [
    {
     "data": {
      "text/plain": [
       "'Los 5 hosts de mayor consumo de CPU son:\\n\\n1. vbogdtlobsvp08\\n2. Zabbix server\\n3. vbogevokesl03\\n4. vbogmosmonp02\\n5. vbogevokesl02\\n\\nPara estos hosts, la media de consumo de CPU es de aproximadamente 18.28 y la varianza es de aproximadamente 23.07.'"
      ]
     },
     "execution_count": 8,
     "metadata": {},
     "output_type": "execute_result"
    }
   ],
   "source": [
    "response['output']"
   ]
  },
  {
   "cell_type": "markdown",
   "metadata": {},
   "source": [
    "# **Prompt**"
   ]
  },
  {
   "cell_type": "code",
   "execution_count": 33,
   "metadata": {},
   "outputs": [],
   "source": [
    "TEMPLATE = \"\"\" Eres un asistente avanzado especializado en el análisis de datos tabulares. Tu misión es ayudar a los compañeros de trabajo a mejorar su experiencia y ayudarles.\n",
    "Los datos y/o métricas que contiene la tabla corresponde a información de:\n",
    "\n",
    "- Name: Nombre del host.\n",
    "- IP: Dirección IP del host.\n",
    "- Date: Fecha de la medición del evento.\n",
    "- Memory Min: valor minimo de consumo de memoria RAM en un periodo de 1 hora.\n",
    "- Memory Max: valor máximo de consumo de memoria RAM en un periodo de 1 hora.\n",
    "- Memory Avg: valor promedio de consumo de memoria RAM en un periodo de 1 hora.\n",
    "- Disk Min: valor minimo de consumo de disco duro en un periodo de 1 hora. \n",
    "- Disk Max: valor máximo de consumo de disco duro en un periodo de 1 hora. \n",
    "- Disk Avg: valor promedio de consumo de disco duro en un periodo de 1 hora.  \n",
    "- CPU Min: valor minimo de consumo de CPU en un periodo de 1 hora. \n",
    "- CPU Max: valor máximo de consumo de CPU en un periodo de 1 hora. \n",
    "- CPU Avg: valor promedio de consumo de CPU en un periodo de 1 hora. \n",
    "- GPU Min: valor minimo de consumo de GPU en un periodo de 1 hora. \n",
    "- GPU Max: valor máximo de consumo de GPU en un periodo de 1 hora. \n",
    "- GPU Avg: valor promedio de consumo de GPU en un periodo de 1 hora. \n",
    "\n",
    "Tu tarea principal es interpretar preguntas y responder UNICAMENTE EN IDIOMA ESPAÑOL\n",
    "\n",
    "\"\"\""
   ]
  },
  {
   "cell_type": "code",
   "execution_count": 34,
   "metadata": {},
   "outputs": [],
   "source": [
    "model_name = \"gpt-3.5-turbo\"\n",
    "encoding = tiktoken.encoding_for_model(model_name)"
   ]
  },
  {
   "cell_type": "code",
   "execution_count": 35,
   "metadata": {},
   "outputs": [
    {
     "name": "stdout",
     "output_type": "stream",
     "text": [
      "347\n"
     ]
    }
   ],
   "source": [
    "token_count = len(encoding.encode(TEMPLATE))\n",
    "print(token_count)"
   ]
  },
  {
   "cell_type": "markdown",
   "metadata": {},
   "source": [
    "# **ChatBot**"
   ]
  },
  {
   "cell_type": "code",
   "execution_count": 36,
   "metadata": {},
   "outputs": [],
   "source": [
    "agent = create_pandas_dataframe_agent(\n",
    "    llm=LLM_OpenAI, \n",
    "    df=df, \n",
    "    prompt_template=TEMPLATE,\n",
    "    agent_type=\"openai-tools\",\n",
    "    verbose=True, \n",
    "    allow_dangerous_code=True,\n",
    "    language=\"es\"\n",
    "    )\n",
    "\n"
   ]
  },
  {
   "cell_type": "code",
   "execution_count": 37,
   "metadata": {},
   "outputs": [
    {
     "name": "stdout",
     "output_type": "stream",
     "text": [
      "\n",
      "\n",
      "\u001b[1m> Entering new AgentExecutor chain...\u001b[0m\n",
      "\u001b[32;1m\u001b[1;3m\n",
      "Invoking: `python_repl_ast` with `{'query': \"df.groupby('Name').agg({'CPU Avg': ['mean', 'var']}).nlargest(5, ('CPU Avg', 'mean'))\"}`\n",
      "\n",
      "\n",
      "\u001b[0m\u001b[36;1m\u001b[1;3m                  CPU Avg    \n",
      "                     mean var\n",
      "Name                         \n",
      "vbogdtlobsvp08  23.387892 NaN\n",
      "Zabbix server   23.345293 NaN\n",
      "vbogevokesl03   16.569246 NaN\n",
      "vbogmosmonp02   14.979116 NaN\n",
      "vbogevokesl02   13.111357 NaN\u001b[0m\u001b[32;1m\u001b[1;3mLos 5 hosts con mayor consumo promedio de CPU son:\n",
      "\n",
      "1. vbogdtlobsvp08 con una media de 23.39 y varianza no disponible.\n",
      "2. Zabbix server con una media de 23.35 y varianza no disponible.\n",
      "3. vbogevokesl03 con una media de 16.57 y varianza no disponible.\n",
      "4. vbogmosmonp02 con una media de 14.98 y varianza no disponible.\n",
      "5. vbogevokesl02 con una media de 13.11 y varianza no disponible.\u001b[0m\n",
      "\n",
      "\u001b[1m> Finished chain.\u001b[0m\n"
     ]
    }
   ],
   "source": [
    "question = \"Dame una descripción de la tabla con media y varianza por los 5 host de mayor consumo de CPU\"\n",
    "\n",
    "response = agent.invoke(question)"
   ]
  },
  {
   "cell_type": "code",
   "execution_count": 39,
   "metadata": {},
   "outputs": [
    {
     "data": {
      "text/plain": [
       "'Los 5 hosts con mayor consumo promedio de CPU son:\\n\\n1. vbogdtlobsvp08 con una media de 23.39 y varianza no disponible.\\n2. Zabbix server con una media de 23.35 y varianza no disponible.\\n3. vbogevokesl03 con una media de 16.57 y varianza no disponible.\\n4. vbogmosmonp02 con una media de 14.98 y varianza no disponible.\\n5. vbogevokesl02 con una media de 13.11 y varianza no disponible.'"
      ]
     },
     "execution_count": 39,
     "metadata": {},
     "output_type": "execute_result"
    }
   ],
   "source": [
    "response['output']"
   ]
  },
  {
   "cell_type": "code",
   "execution_count": 15,
   "metadata": {},
   "outputs": [
    {
     "name": "stdout",
     "output_type": "stream",
     "text": [
      "\n",
      "\n",
      "\u001b[1m> Entering new AgentExecutor chain...\u001b[0m\n",
      "\u001b[32;1m\u001b[1;3m\n",
      "Invoking: `python_repl_ast` with `{'query': \"import matplotlib.pyplot as plt\\n\\n# Get the top 5 hosts with the highest memory max consumption\\ntop_hosts = df.nlargest(5, 'Memory Max')\\n\\n# Create a bar plot\\nplt.figure(figsize=(12, 6))\\nplt.bar(top_hosts['Name'], top_hosts['Memory Max'], color='skyblue')\\nplt.xlabel('Hosts')\\nplt.ylabel('Memory Max Consumption')\\nplt.title('Top 5 Hosts with Highest Memory Max Consumption')\\nplt.xticks(rotation=45)\\nplt.show()\"}`\n",
      "\n",
      "\n",
      "\u001b[0m"
     ]
    },
    {
     "data": {
      "image/png": "[encoded data removed]",
      "text/plain": [
       "<Figure size 1200x600 with 1 Axes>"
      ]
     },
     "metadata": {},
     "output_type": "display_data"
    },
    {
     "name": "stdout",
     "output_type": "stream",
     "text": [
      "\u001b[36;1m\u001b[1;3m\u001b[0m\u001b[32;1m\u001b[1;3mAquí tienes el gráfico de barras que muestra los 5 hosts con el mayor consumo de memoria máxima. Cada barra representa el consumo de memoria máxima para un host específico.\u001b[0m\n",
      "\n",
      "\u001b[1m> Finished chain.\u001b[0m\n"
     ]
    },
    {
     "data": {
      "text/plain": [
       "{'input': 'Dame un grafico de barras para los 5 host de mayor consumo',\n",
       " 'output': 'Aquí tienes el gráfico de barras que muestra los 5 hosts con el mayor consumo de memoria máxima. Cada barra representa el consumo de memoria máxima para un host específico.'}"
      ]
     },
     "execution_count": 15,
     "metadata": {},
     "output_type": "execute_result"
    }
   ],
   "source": [
    "#agent.invoke(\"Dame una grafico de serie de tiempo con el consumo de memoria de vbogdtlobsvp09 en el tiempo\")\n",
    "agent.invoke(\"Dame un grafico de barras para los 5 host de mayor consumo\")"
   ]
  },
  {
   "cell_type": "code",
   "execution_count": 16,
   "metadata": {},
   "outputs": [],
   "source": [
    "questions = [\n",
    "    \"¿Qué información tienes?\",\n",
    "    \"¿Qué datos conoces?\",\n",
    "    \"¿Qué métricas tienes?\",\n",
    "    \"¿Cuál es el servidor con mayor consumo de recursos?\",\n",
    "    \"¿Por qué el servidor X tiene un consumo de recursos elevado?\",\n",
    "    \"¿En qué momento se presentan picos de recursos y por qué?\",\n",
    "    \"¿Qué proceso tiene mayor consumo de recursos?\",\n",
    "    \"¿Cuál es el capacity planning para el servidor X?\",\n",
    "    \"Construye un capacity planning de la infraestructura\",\n",
    "    \"¿Qué anomalías has detectado?\"\n",
    "]\n"
   ]
  },
  {
   "cell_type": "code",
   "execution_count": 18,
   "metadata": {},
   "outputs": [
    {
     "name": "stdout",
     "output_type": "stream",
     "text": [
      "\n",
      "\n",
      "\u001b[1m> Entering new AgentExecutor chain...\u001b[0m\n",
      "\u001b[32;1m\u001b[1;3mTengo un dataframe de pandas llamado `df` que contiene información sobre diferentes servidores. La información incluye el nombre del servidor, la dirección IP, la fecha, y varias métricas como la memoria mínima, máxima y promedio, el disco mínimo, máximo y promedio, el CPU mínimo, máximo y promedio, y el GPU mínimo, máximo y promedio.\u001b[0m\n",
      "\n",
      "\u001b[1m> Finished chain.\u001b[0m\n",
      "\n",
      "\n",
      "\u001b[1m> Entering new AgentExecutor chain...\u001b[0m\n",
      "\u001b[32;1m\u001b[1;3m\n",
      "Invoking: `python_repl_ast` with `{'query': 'df.columns'}`\n",
      "\n",
      "\n",
      "\u001b[0m\u001b[36;1m\u001b[1;3mIndex(['Name', 'IP', 'Date', 'Memory Min', 'Memory Max', 'Memory Avg',\n",
      "       'Disk Min', 'Disk Max', 'Disk Avg', 'CPU Min', 'CPU Max', 'CPU Avg',\n",
      "       'GPU Min', 'GPU Max', 'GPU Avg', 'Total Resources'],\n",
      "      dtype='object')\u001b[0m\u001b[32;1m\u001b[1;3mLos datos que conozco en el dataframe son los siguientes:\n",
      "\n",
      "1. Name\n",
      "2. IP\n",
      "3. Date\n",
      "4. Memory Min\n",
      "5. Memory Max\n",
      "6. Memory Avg\n",
      "7. Disk Min\n",
      "8. Disk Max\n",
      "9. Disk Avg\n",
      "10. CPU Min\n",
      "11. CPU Max\n",
      "12. CPU Avg\n",
      "13. GPU Min\n",
      "14. GPU Max\n",
      "15. GPU Avg\n",
      "16. Total Resources\u001b[0m\n",
      "\n",
      "\u001b[1m> Finished chain.\u001b[0m\n",
      "\n",
      "\n",
      "\u001b[1m> Entering new AgentExecutor chain...\u001b[0m\n",
      "\u001b[32;1m\u001b[1;3m\n",
      "Invoking: `python_repl_ast` with `{'query': 'df.columns'}`\n",
      "\n",
      "\n",
      "\u001b[0m\u001b[36;1m\u001b[1;3mIndex(['Name', 'IP', 'Date', 'Memory Min', 'Memory Max', 'Memory Avg',\n",
      "       'Disk Min', 'Disk Max', 'Disk Avg', 'CPU Min', 'CPU Max', 'CPU Avg',\n",
      "       'GPU Min', 'GPU Max', 'GPU Avg', 'Total Resources'],\n",
      "      dtype='object')\u001b[0m\u001b[32;1m\u001b[1;3mLas métricas disponibles en el dataframe son las siguientes:\n",
      "- Memory Min\n",
      "- Memory Max\n",
      "- Memory Avg\n",
      "- Disk Min\n",
      "- Disk Max\n",
      "- Disk Avg\n",
      "- CPU Min\n",
      "- CPU Max\n",
      "- CPU Avg\n",
      "- GPU Min\n",
      "- GPU Max\n",
      "- GPU Avg\u001b[0m\n",
      "\n",
      "\u001b[1m> Finished chain.\u001b[0m\n",
      "\n",
      "\n",
      "\u001b[1m> Entering new AgentExecutor chain...\u001b[0m\n",
      "\u001b[32;1m\u001b[1;3m\n",
      "Invoking: `python_repl_ast` with `{'query': \"df['Total Resources'] = df['Memory Avg'] + df['Disk Avg'] + df['CPU Avg'] + df['GPU Avg']\\nmax_server = df.loc[df['Total Resources'].idxmax()]['Name']\\nmax_server\"}`\n",
      "\n",
      "\n",
      "\u001b[0m\u001b[36;1m\u001b[1;3mvbogevokesl03\u001b[0m\u001b[32;1m\u001b[1;3mEl servidor con el mayor consumo de recursos es `vbogevokesl03`.\u001b[0m\n",
      "\n",
      "\u001b[1m> Finished chain.\u001b[0m\n",
      "\n",
      "\n",
      "\u001b[1m> Entering new AgentExecutor chain...\u001b[0m\n",
      "\u001b[32;1m\u001b[1;3m\n",
      "Invoking: `python_repl_ast` with `{'query': \"# Calculating the average values for Memory, Disk, CPU, and GPU across all servers\\navg_memory = df['Memory Avg'].mean()\\navg_disk = df['Disk Avg'].mean()\\navg_cpu = df['CPU Avg'].mean()\\navg_gpu = df['GPU Avg'].mean()\\n\\n# Getting the resource consumption values for server X\\nserver_X = df[df['Name'] == 'vbogdtlobsvp02']\\nmemory_X = server_X['Memory Avg'].values[0]\\ndisk_X = server_X['Disk Avg'].values[0]\\ncpu_X = server_X['CPU Avg'].values[0]\\ngpu_X = server_X['GPU Avg'].values[0]\\n\\n(avg_memory, avg_disk, avg_cpu, avg_gpu, memory_X, disk_X, cpu_X, gpu_X)\"}`\n",
      "responded: Para determinar por qué el servidor X tiene un consumo de recursos elevado, necesitamos analizar los datos proporcionados en el dataframe `df`. En este caso, los recursos que podrían estar contribuyendo a un consumo elevado son la memoria (Memory), el disco (Disk), la CPU y la GPU.\n",
      "\n",
      "Para identificar la razón específica del consumo elevado de recursos en el servidor X, podemos realizar un análisis comparativo de los valores de consumo de recursos de ese servidor en particular con respecto a otros servidores en el dataframe. Podemos comparar los valores de consumo de memoria, disco, CPU y GPU del servidor X con los valores promedio de todos los servidores para determinar si el consumo en el servidor X es significativamente mayor en alguna de esas áreas.\n",
      "\n",
      "Vamos a realizar este análisis para identificar la causa del consumo elevado de recursos en el servidor X.\n",
      "\n",
      "\u001b[0m\u001b[36;1m\u001b[1;3m(19.221365349253485, 0.0, 6.136950783475104, 0.0, 9.541167270151421, 0, 4.22161494664967, 0)\u001b[0m\u001b[32;1m\u001b[1;3mLos valores promedio de consumo de recursos para todos los servidores en el dataframe son los siguientes:\n",
      "- Consumo promedio de memoria: 19.22\n",
      "- Consumo promedio de disco: 0.0\n",
      "- Consumo promedio de CPU: 6.14\n",
      "- Consumo promedio de GPU: 0.0\n",
      "\n",
      "Para el servidor X (vbogdtlobsvp02), los valores de consumo de recursos son los siguientes:\n",
      "- Consumo de memoria en el servidor X: 9.54\n",
      "- Consumo de disco en el servidor X: 0.0\n",
      "- Consumo de CPU en el servidor X: 4.22\n",
      "- Consumo de GPU en el servidor X: 0.0\n",
      "\n",
      "Al comparar los valores de consumo de recursos del servidor X con los valores promedio de todos los servidores, podemos ver que el consumo de memoria y CPU en el servidor X es significativamente menor que el promedio, lo cual no indica un consumo elevado en esas áreas. El consumo de disco y GPU en el servidor X es igual al promedio, lo que también sugiere que no hay un consumo anormal en esas áreas.\n",
      "\n",
      "Por lo tanto, basándonos en estos valores, no parece que el servidor X tenga un consumo de recursos elevado en comparación con los otros servidores en el dataframe.\u001b[0m\n",
      "\n",
      "\u001b[1m> Finished chain.\u001b[0m\n",
      "\n",
      "\n",
      "\u001b[1m> Entering new AgentExecutor chain...\u001b[0m\n",
      "\u001b[32;1m\u001b[1;3m\n",
      "Invoking: `python_repl_ast` with `{'query': \"peak_memory = df['Memory Max'].max()\\npeak_disk = df['Disk Max'].max()\\npeak_cpu = df['CPU Max'].max()\\npeak_gpu = df['GPU Max'].max()\\npeak_memory, peak_disk, peak_cpu, peak_gpu\"}`\n",
      "responded: Para identificar los momentos en los que se presentan picos de recursos en el dataframe proporcionado, es necesario analizar las columnas que representan el uso de recursos, como la memoria (Memory), el disco (Disk), la CPU y la GPU. Los picos de recursos suelen ocurrir cuando hay un aumento significativo en el uso de estos recursos en comparación con los valores promedio.\n",
      "\n",
      "Para determinar los momentos en los que se presentan picos de recursos y la razón detrás de ellos, se pueden seguir los siguientes pasos:\n",
      "\n",
      "1. Calcular los valores máximos de cada columna de recursos (Memory Max, Disk Max, CPU Max, GPU Max) para identificar los picos de uso máximo.\n",
      "2. Identificar las fechas y horas correspondientes a estos picos de recursos para determinar cuándo ocurrieron.\n",
      "3. Analizar los datos circundantes a los picos para identificar posibles razones detrás de estos aumentos repentinos en el uso de recursos.\n",
      "\n",
      "Vamos a realizar estos cálculos y análisis para identificar los momentos en los que se presentan picos de recursos y la posible razón detrás de ellos.\n",
      "\n",
      "\u001b[0m\u001b[36;1m\u001b[1;3m(77.85977172851562, 0, 100.0, 0)\u001b[0m\u001b[32;1m\u001b[1;3m\n",
      "Invoking: `python_repl_ast` with `{'query': \"peak_memory_date = df.loc[df['Memory Max'].idxmax(), 'Date']\\npeak_disk_date = df.loc[df['Disk Max'].idxmax(), 'Date']\\npeak_cpu_date = df.loc[df['CPU Max'].idxmax(), 'Date']\\npeak_gpu_date = df.loc[df['GPU Max'].idxmax(), 'Date']\\npeak_memory_date, peak_disk_date, peak_cpu_date, peak_gpu_date\"}`\n",
      "responded: Para identificar los momentos en los que se presentan picos de recursos en el dataframe proporcionado, es necesario analizar las columnas que representan el uso de recursos, como la memoria (Memory), el disco (Disk), la CPU y la GPU. Los picos de recursos suelen ocurrir cuando hay un aumento significativo en el uso de estos recursos en comparación con los valores promedio.\n",
      "\n",
      "Para determinar los momentos en los que se presentan picos de recursos y la razón detrás de ellos, se pueden seguir los siguientes pasos:\n",
      "\n",
      "1. Calcular los valores máximos de cada columna de recursos (Memory Max, Disk Max, CPU Max, GPU Max) para identificar los picos de uso máximo.\n",
      "2. Identificar las fechas y horas correspondientes a estos picos de recursos para determinar cuándo ocurrieron.\n",
      "3. Analizar los datos circundantes a los picos para identificar posibles razones detrás de estos aumentos repentinos en el uso de recursos.\n",
      "\n",
      "Vamos a realizar estos cálculos y análisis para identificar los momentos en los que se presentan picos de recursos y la posible razón detrás de ellos.\n",
      "\n",
      "\u001b[0m\u001b[36;1m\u001b[1;3m('2025-01-07T14:17:52.000Z', '2025-01-07T14:17:57.000Z', '2025-01-07T14:17:54.000Z', '2025-01-07T14:17:57.000Z')\u001b[0m\u001b[32;1m\u001b[1;3mSe han identificado los siguientes picos de recursos y las fechas en las que ocurrieron:\n",
      "\n",
      "- Pico de uso máximo de memoria: 77.86\n",
      "  - Fecha: 2025-01-07T14:17:52.000Z\n",
      "\n",
      "- Pico de uso máximo de disco: 0\n",
      "  - Fecha: 2025-01-07T14:17:57.000Z\n",
      "\n",
      "- Pico de uso máximo de CPU: 100.0\n",
      "  - Fecha: 2025-01-07T14:17:54.000Z\n",
      "\n",
      "- Pico de uso máximo de GPU: 0\n",
      "  - Fecha: 2025-01-07T14:17:57.000Z\n",
      "\n",
      "Para determinar la razón detrás de estos picos de recursos, se recomienda analizar los datos circundantes a estas fechas y horas para identificar posibles eventos o actividades que podrían haber causado estos aumentos repentinos en el uso de recursos. También se puede investigar si hubo algún proceso específico en ejecución en esos momentos que requiriera una cantidad significativa de recursos.\n",
      "\n",
      "Si se requiere un análisis más detallado o información adicional, por favor házmelo saber.\u001b[0m\n",
      "\n",
      "\u001b[1m> Finished chain.\u001b[0m\n",
      "\n",
      "\n",
      "\u001b[1m> Entering new AgentExecutor chain...\u001b[0m\n",
      "\u001b[32;1m\u001b[1;3m\n",
      "Invoking: `python_repl_ast` with `{'query': \"df[['Memory Avg', 'Disk Avg', 'CPU Avg', 'GPU Avg']].sum().idxmax()\"}`\n",
      "\n",
      "\n",
      "\u001b[0m\u001b[36;1m\u001b[1;3mMemory Avg\u001b[0m\u001b[32;1m\u001b[1;3mEl proceso que tiene el mayor consumo de recursos es el que utiliza la memoria en promedio.\u001b[0m\n",
      "\n",
      "\u001b[1m> Finished chain.\u001b[0m\n",
      "\n",
      "\n",
      "\u001b[1m> Entering new AgentExecutor chain...\u001b[0m\n",
      "\u001b[32;1m\u001b[1;3mPara determinar el capacity planning para un servidor específico, necesitamos conocer las especificaciones de ese servidor en particular. En este caso, necesitaríamos información adicional sobre el servidor X, como la cantidad de memoria RAM, la capacidad de almacenamiento en disco, la velocidad del procesador, entre otros detalles relevantes.\n",
      "\n",
      "Una vez que tengamos esa información, podemos analizar los datos del servidor X en el dataframe proporcionado y calcular el capacity planning en función de métricas como el uso promedio de la CPU, la memoria, el disco, etc.\n",
      "\n",
      "Por favor proporcióname más detalles sobre el servidor X para que pueda realizar el cálculo del capacity planning.\u001b[0m\n",
      "\n",
      "\u001b[1m> Finished chain.\u001b[0m\n",
      "\n",
      "\n",
      "\u001b[1m> Entering new AgentExecutor chain...\u001b[0m\n",
      "\u001b[32;1m\u001b[1;3m\n",
      "Invoking: `python_repl_ast` with `{'query': 'df.describe()'}`\n",
      "responded: Para construir un capacity planning de la infraestructura, necesitamos analizar los datos proporcionados en el dataframe `df`. El capacity planning implica prever las necesidades futuras de recursos de la infraestructura en función de los datos históricos. \n",
      "\n",
      "Para ello, podemos realizar las siguientes acciones:\n",
      "\n",
      "1. **Análisis de los datos actuales:**\n",
      "   - Revisar las estadísticas descriptivas de las columnas numéricas para comprender la distribución de los datos.\n",
      "   - Identificar tendencias y patrones en el uso de recursos a lo largo del tiempo.\n",
      "\n",
      "2. **Proyección de la demanda futura:**\n",
      "   - Utilizar técnicas de análisis de series temporales para predecir el uso futuro de recursos.\n",
      "   - Establecer umbrales de capacidad para garantizar un rendimiento óptimo de la infraestructura.\n",
      "\n",
      "3. **Planificación de recursos:**\n",
      "   - Determinar la capacidad necesaria para satisfacer la demanda futura.\n",
      "   - Identificar posibles cuellos de botella y áreas de mejora en la infraestructura.\n",
      "\n",
      "4. **Optimización de recursos:**\n",
      "   - Identificar oportunidades para optimizar el uso de recursos existentes.\n",
      "   - Establecer políticas de escalado automático para adaptarse a picos de demanda.\n",
      "\n",
      "Vamos a comenzar analizando los datos actuales para comprender mejor la infraestructura. Realicemos un análisis descriptivo de las columnas numéricas en el dataframe `df`.\n",
      "\n",
      "\u001b[0m\u001b[36;1m\u001b[1;3m       Memory Min  Memory Max  Memory Avg  Disk Min  Disk Max  Disk Avg  \\\n",
      "count   39.000000   39.000000   39.000000      39.0      39.0      39.0   \n",
      "mean     1.753371   39.490198   19.221365       0.0       0.0       0.0   \n",
      "std      6.843120   19.308634    9.374876       0.0       0.0       0.0   \n",
      "min      0.000000   10.564239    4.540172       0.0       0.0       0.0   \n",
      "25%      0.000000   20.019755   12.826985       0.0       0.0       0.0   \n",
      "50%      0.000000   35.566837   17.076534       0.0       0.0       0.0   \n",
      "75%      0.000000   54.483942   24.992608       0.0       0.0       0.0   \n",
      "max     37.728630   77.859772   38.218928       0.0       0.0       0.0   \n",
      "\n",
      "         CPU Min     CPU Max    CPU Avg  GPU Min  GPU Max  GPU Avg  \\\n",
      "count  39.000000   39.000000  39.000000     39.0     39.0     39.0   \n",
      "mean   -0.692200   30.497898   6.136951      0.0      0.0      0.0   \n",
      "std     3.226024   23.013937   5.711265      0.0      0.0      0.0   \n",
      "min   -18.704107    0.000000   0.000000      0.0      0.0      0.0   \n",
      "25%     0.000000   16.286698   2.820245      0.0      0.0      0.0   \n",
      "50%     0.000000   21.530586   4.512177      0.0      0.0      0.0   \n",
      "75%     0.000000   39.326654   7.890104      0.0      0.0      0.0   \n",
      "max     0.000000  100.000000  23.387892      0.0      0.0      0.0   \n",
      "\n",
      "       Total Resources  \n",
      "count        39.000000  \n",
      "mean         25.358316  \n",
      "std          10.709702  \n",
      "min           4.885416  \n",
      "25%          18.126240  \n",
      "50%          26.402773  \n",
      "75%          32.717161  \n",
      "max          45.400168  \u001b[0m\u001b[32;1m\u001b[1;3mBasándonos en el análisis descriptivo de las columnas numéricas del dataframe `df`, podemos observar lo siguiente:\n",
      "\n",
      "- **Memoria (Memory):**\n",
      "  - El uso de memoria varía entre 10.56 y 77.86, con un promedio de 39.49.\n",
      "  - La memoria mínima y promedio son significativamente menores que la memoria máxima, lo que indica posibles picos de uso.\n",
      "\n",
      "- **Disco (Disk):**\n",
      "  - Todos los valores de disco son 0, lo que puede indicar que no se está registrando correctamente la información o que no se está utilizando el disco en este contexto.\n",
      "\n",
      "- **CPU:**\n",
      "  - El uso de CPU varía entre -18.70 y 100, con un promedio de 30.50.\n",
      "  - La mayoría de los valores de CPU son 0, lo que puede indicar que la CPU no está siendo utilizada en su capacidad máxima.\n",
      "\n",
      "- **GPU:**\n",
      "  - Todos los valores de GPU son 0, lo que indica que no se está utilizando la GPU en este contexto.\n",
      "\n",
      "- **Recursos Totales (Total Resources):**\n",
      "  - El promedio de recursos totales es de 25.36, con una desviación estándar de 10.71.\n",
      "\n",
      "Para realizar un capacity planning más detallado, sería necesario analizar la evolución de estos recursos a lo largo del tiempo y utilizar técnicas de pronóstico para prever la demanda futura. ¿Te gustaría profundizar en algún aspecto específico o realizar algún análisis adicional?\u001b[0m\n",
      "\n",
      "\u001b[1m> Finished chain.\u001b[0m\n",
      "\n",
      "\n",
      "\u001b[1m> Entering new AgentExecutor chain...\u001b[0m\n",
      "\u001b[32;1m\u001b[1;3mPara detectar anomalías en los datos, es necesario realizar un análisis más detallado de las columnas numéricas, como `Memory Min`, `Memory Max`, `Memory Avg`, `Disk Min`, `Disk Max`, `Disk Avg`, `CPU Min`, `CPU Max`, `CPU Avg`, `GPU Min`, `GPU Max`, y `GPU Avg`. Algunas posibles anomalías que podrían detectarse incluyen:\n",
      "\n",
      "1. Valores atípicos (outliers) en las columnas numéricas.\n",
      "2. Valores nulos o faltantes en alguna de las columnas.\n",
      "3. Inconsistencias en los rangos de valores entre las columnas relacionadas (por ejemplo, `Memory Min`, `Memory Max`, `Memory Avg`).\n",
      "4. Valores negativos donde no deberían estar presentes.\n",
      "5. Valores extremadamente altos o bajos que podrían ser errores de medición.\n",
      "\n",
      "Para identificar con precisión estas anomalías, se pueden realizar análisis estadísticos, visualizaciones de los datos y comparaciones entre las columnas relacionadas. ¿Te gustaría que realice algún análisis específico o visualización para detectar anomalías en los datos?\u001b[0m\n",
      "\n",
      "\u001b[1m> Finished chain.\u001b[0m\n"
     ]
    }
   ],
   "source": [
    "answer = []\n",
    "for question in questions:\n",
    "    response = agent.invoke(question)\n",
    "    answer.append(response['output'])"
   ]
  },
  {
   "cell_type": "code",
   "execution_count": 19,
   "metadata": {},
   "outputs": [
    {
     "data": {
      "text/plain": [
       "['Tengo un dataframe de pandas llamado `df` que contiene información sobre diferentes servidores. La información incluye el nombre del servidor, la dirección IP, la fecha, y varias métricas como la memoria mínima, máxima y promedio, el disco mínimo, máximo y promedio, el CPU mínimo, máximo y promedio, y el GPU mínimo, máximo y promedio.',\n",
       " 'Los datos que conozco en el dataframe son los siguientes:\\n\\n1. Name\\n2. IP\\n3. Date\\n4. Memory Min\\n5. Memory Max\\n6. Memory Avg\\n7. Disk Min\\n8. Disk Max\\n9. Disk Avg\\n10. CPU Min\\n11. CPU Max\\n12. CPU Avg\\n13. GPU Min\\n14. GPU Max\\n15. GPU Avg\\n16. Total Resources',\n",
       " 'Las métricas disponibles en el dataframe son las siguientes:\\n- Memory Min\\n- Memory Max\\n- Memory Avg\\n- Disk Min\\n- Disk Max\\n- Disk Avg\\n- CPU Min\\n- CPU Max\\n- CPU Avg\\n- GPU Min\\n- GPU Max\\n- GPU Avg',\n",
       " 'El servidor con el mayor consumo de recursos es `vbogevokesl03`.',\n",
       " 'Los valores promedio de consumo de recursos para todos los servidores en el dataframe son los siguientes:\\n- Consumo promedio de memoria: 19.22\\n- Consumo promedio de disco: 0.0\\n- Consumo promedio de CPU: 6.14\\n- Consumo promedio de GPU: 0.0\\n\\nPara el servidor X (vbogdtlobsvp02), los valores de consumo de recursos son los siguientes:\\n- Consumo de memoria en el servidor X: 9.54\\n- Consumo de disco en el servidor X: 0.0\\n- Consumo de CPU en el servidor X: 4.22\\n- Consumo de GPU en el servidor X: 0.0\\n\\nAl comparar los valores de consumo de recursos del servidor X con los valores promedio de todos los servidores, podemos ver que el consumo de memoria y CPU en el servidor X es significativamente menor que el promedio, lo cual no indica un consumo elevado en esas áreas. El consumo de disco y GPU en el servidor X es igual al promedio, lo que también sugiere que no hay un consumo anormal en esas áreas.\\n\\nPor lo tanto, basándonos en estos valores, no parece que el servidor X tenga un consumo de recursos elevado en comparación con los otros servidores en el dataframe.',\n",
       " 'Se han identificado los siguientes picos de recursos y las fechas en las que ocurrieron:\\n\\n- Pico de uso máximo de memoria: 77.86\\n  - Fecha: 2025-01-07T14:17:52.000Z\\n\\n- Pico de uso máximo de disco: 0\\n  - Fecha: 2025-01-07T14:17:57.000Z\\n\\n- Pico de uso máximo de CPU: 100.0\\n  - Fecha: 2025-01-07T14:17:54.000Z\\n\\n- Pico de uso máximo de GPU: 0\\n  - Fecha: 2025-01-07T14:17:57.000Z\\n\\nPara determinar la razón detrás de estos picos de recursos, se recomienda analizar los datos circundantes a estas fechas y horas para identificar posibles eventos o actividades que podrían haber causado estos aumentos repentinos en el uso de recursos. También se puede investigar si hubo algún proceso específico en ejecución en esos momentos que requiriera una cantidad significativa de recursos.\\n\\nSi se requiere un análisis más detallado o información adicional, por favor házmelo saber.',\n",
       " 'El proceso que tiene el mayor consumo de recursos es el que utiliza la memoria en promedio.',\n",
       " 'Para determinar el capacity planning para un servidor específico, necesitamos conocer las especificaciones de ese servidor en particular. En este caso, necesitaríamos información adicional sobre el servidor X, como la cantidad de memoria RAM, la capacidad de almacenamiento en disco, la velocidad del procesador, entre otros detalles relevantes.\\n\\nUna vez que tengamos esa información, podemos analizar los datos del servidor X en el dataframe proporcionado y calcular el capacity planning en función de métricas como el uso promedio de la CPU, la memoria, el disco, etc.\\n\\nPor favor proporcióname más detalles sobre el servidor X para que pueda realizar el cálculo del capacity planning.',\n",
       " 'Basándonos en el análisis descriptivo de las columnas numéricas del dataframe `df`, podemos observar lo siguiente:\\n\\n- **Memoria (Memory):**\\n  - El uso de memoria varía entre 10.56 y 77.86, con un promedio de 39.49.\\n  - La memoria mínima y promedio son significativamente menores que la memoria máxima, lo que indica posibles picos de uso.\\n\\n- **Disco (Disk):**\\n  - Todos los valores de disco son 0, lo que puede indicar que no se está registrando correctamente la información o que no se está utilizando el disco en este contexto.\\n\\n- **CPU:**\\n  - El uso de CPU varía entre -18.70 y 100, con un promedio de 30.50.\\n  - La mayoría de los valores de CPU son 0, lo que puede indicar que la CPU no está siendo utilizada en su capacidad máxima.\\n\\n- **GPU:**\\n  - Todos los valores de GPU son 0, lo que indica que no se está utilizando la GPU en este contexto.\\n\\n- **Recursos Totales (Total Resources):**\\n  - El promedio de recursos totales es de 25.36, con una desviación estándar de 10.71.\\n\\nPara realizar un capacity planning más detallado, sería necesario analizar la evolución de estos recursos a lo largo del tiempo y utilizar técnicas de pronóstico para prever la demanda futura. ¿Te gustaría profundizar en algún aspecto específico o realizar algún análisis adicional?',\n",
       " 'Para detectar anomalías en los datos, es necesario realizar un análisis más detallado de las columnas numéricas, como `Memory Min`, `Memory Max`, `Memory Avg`, `Disk Min`, `Disk Max`, `Disk Avg`, `CPU Min`, `CPU Max`, `CPU Avg`, `GPU Min`, `GPU Max`, y `GPU Avg`. Algunas posibles anomalías que podrían detectarse incluyen:\\n\\n1. Valores atípicos (outliers) en las columnas numéricas.\\n2. Valores nulos o faltantes en alguna de las columnas.\\n3. Inconsistencias en los rangos de valores entre las columnas relacionadas (por ejemplo, `Memory Min`, `Memory Max`, `Memory Avg`).\\n4. Valores negativos donde no deberían estar presentes.\\n5. Valores extremadamente altos o bajos que podrían ser errores de medición.\\n\\nPara identificar con precisión estas anomalías, se pueden realizar análisis estadísticos, visualizaciones de los datos y comparaciones entre las columnas relacionadas. ¿Te gustaría que realice algún análisis específico o visualización para detectar anomalías en los datos?']"
      ]
     },
     "execution_count": 19,
     "metadata": {},
     "output_type": "execute_result"
    }
   ],
   "source": [
    "answer"
   ]
  },
  {
   "cell_type": "markdown",
   "metadata": {},
   "source": [
    "# **Advaced prompt**"
   ]
  },
  {
   "cell_type": "code",
   "execution_count": 47,
   "metadata": {},
   "outputs": [],
   "source": [
    "prompt = ChatPromptTemplate.from_messages(\n",
    "    [\n",
    "        (\"system\", TEMPLATE),\n",
    "        MessagesPlaceholder(variable_name=\"chat_history\"),\n",
    "        (\"human\", \"{input}\"),\n",
    "    ]\n",
    ")\n"
   ]
  },
  {
   "cell_type": "code",
   "execution_count": 52,
   "metadata": {},
   "outputs": [
    {
     "name": "stdout",
     "output_type": "stream",
     "text": [
      "\n",
      "\n",
      "\u001b[1m> Entering new AgentExecutor chain...\u001b[0m\n",
      "\u001b[32;1m\u001b[1;3m\n",
      "Invoking: `python_repl_ast` with `{'query': \"import matplotlib.pyplot as plt\\nimport numpy as np\\n\\nx = np.linspace(0, 10, 100)\\ny = np.sin(x)\\n\\nplt.figure()\\nplt.plot(x, y)\\nplt.title('Gráfico de la función seno')\\nplt.xlabel('x')\\nplt.ylabel('sin(x)')\\nplt.show()\"}`\n",
      "\n",
      "\n",
      "\u001b[0m"
     ]
    },
    {
     "data": {
      "image/png": "[encoded data removed]",
      "text/plain": [
       "<Figure size 640x480 with 1 Axes>"
      ]
     },
     "metadata": {},
     "output_type": "display_data"
    },
    {
     "name": "stdout",
     "output_type": "stream",
     "text": [
      "\u001b[36;1m\u001b[1;3m\u001b[0m\u001b[32;1m\u001b[1;3mAquí tienes un gráfico de la función seno generado mediante Python.\u001b[0m\n",
      "\n",
      "\u001b[1m> Finished chain.\u001b[0m\n"
     ]
    },
    {
     "data": {
      "text/plain": [
       "'Aquí tienes un gráfico de la función seno generado mediante Python.'"
      ]
     },
     "execution_count": 52,
     "metadata": {},
     "output_type": "execute_result"
    }
   ],
   "source": [
    "question = \"Puedes dibujar alguna cosa mediante Python?\"\n",
    "response = agent.invoke({\"input\": question})\n",
    "\n",
    "response['output']"
   ]
  }
 ],
 "metadata": {
  "kernelspec": {
   "display_name": "venv",
   "language": "python",
   "name": "python3"
  },
  "language_info": {
   "codemirror_mode": {
    "name": "ipython",
    "version": 3
   },
   "file_extension": ".py",
   "mimetype": "text/x-python",
   "name": "python",
   "nbconvert_exporter": "python",
   "pygments_lexer": "ipython3",
   "version": "3.13.1"
  }
 },
 "nbformat": 4,
 "nbformat_minor": 2
}
