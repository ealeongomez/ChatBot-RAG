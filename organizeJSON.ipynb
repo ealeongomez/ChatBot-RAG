{
 "cells": [
  {
   "cell_type": "code",
   "execution_count": 60,
   "metadata": {},
   "outputs": [],
   "source": [
    "import json\n",
    "import pandas as pd\n",
    "from datetime import datetime\n"
   ]
  },
  {
   "cell_type": "code",
   "execution_count": 33,
   "metadata": {},
   "outputs": [],
   "source": [
    "with open('./data/resultado.json', 'r') as file:\n",
    "    data = json.load(file)"
   ]
  },
  {
   "cell_type": "code",
   "execution_count": null,
   "metadata": {},
   "outputs": [
    {
     "name": "stdout",
     "output_type": "stream",
     "text": [
      "{'host_ip': '172.30.5.6', 'name': 'ICMP response time', 'value': 0.00034, 'host_name': 'vbogmosnagp01', 'tags': ['_grokparsefailure'], '@timestamp': '2024-11-21T20:32:47.000Z', 'type': 'host_metrics', 'datatype': 'float', 'key_': 'icmppingsec', '@version': '1'}\n",
      "{'host_ip': '172.30.5.34', 'name': 'ICMP response time', 'value': 0.0002663333333333333, 'host_name': 'vbogmosrasp01', 'tags': ['_grokparsefailure'], '@timestamp': '2024-11-21T20:32:47.000Z', 'type': 'host_metrics', 'datatype': 'float', 'key_': 'icmppingsec', '@version': '1'}\n"
     ]
    },
    {
     "data": {
      "text/html": [
       "<div>\n",
       "<style scoped>\n",
       "    .dataframe tbody tr th:only-of-type {\n",
       "        vertical-align: middle;\n",
       "    }\n",
       "\n",
       "    .dataframe tbody tr th {\n",
       "        vertical-align: top;\n",
       "    }\n",
       "\n",
       "    .dataframe thead th {\n",
       "        text-align: right;\n",
       "    }\n",
       "</style>\n",
       "<table border=\"1\" class=\"dataframe\">\n",
       "  <thead>\n",
       "    <tr style=\"text-align: right;\">\n",
       "      <th></th>\n",
       "      <th>hots_ip</th>\n",
       "      <th>host_name</th>\n",
       "      <th>name</th>\n",
       "      <th>timestamp</th>\n",
       "      <th>type</th>\n",
       "      <th>host_metric_detail</th>\n",
       "      <th>value</th>\n",
       "    </tr>\n",
       "  </thead>\n",
       "  <tbody>\n",
       "    <tr>\n",
       "      <th>0</th>\n",
       "      <td>172.30.5.133</td>\n",
       "      <td>vbogdtlobsvp03</td>\n",
       "      <td>CPU utilization</td>\n",
       "      <td>2024-11-21 20:32:47+00:00</td>\n",
       "      <td>host_metrics</td>\n",
       "      <td>cpu</td>\n",
       "      <td>5.282164</td>\n",
       "    </tr>\n",
       "    <tr>\n",
       "      <th>1</th>\n",
       "      <td>172.30.5.201</td>\n",
       "      <td>vbogevokeml01</td>\n",
       "      <td>CPU utilization</td>\n",
       "      <td>2024-11-21 20:32:49+00:00</td>\n",
       "      <td>host_metrics</td>\n",
       "      <td>cpu</td>\n",
       "      <td>10.214254</td>\n",
       "    </tr>\n",
       "    <tr>\n",
       "      <th>2</th>\n",
       "      <td>172.30.5.131</td>\n",
       "      <td>vbogdtlobsvp01</td>\n",
       "      <td>Memory utilization</td>\n",
       "      <td>2024-11-21 20:32:50+00:00</td>\n",
       "      <td>host_metrics</td>\n",
       "      <td>memory</td>\n",
       "      <td>29.665005</td>\n",
       "    </tr>\n",
       "    <tr>\n",
       "      <th>3</th>\n",
       "      <td>172.30.5.200</td>\n",
       "      <td>vbogmosbkp01</td>\n",
       "      <td>Memory utilization</td>\n",
       "      <td>2024-11-21 20:32:48+00:00</td>\n",
       "      <td>host_metrics</td>\n",
       "      <td>memory</td>\n",
       "      <td>28.104885</td>\n",
       "    </tr>\n",
       "    <tr>\n",
       "      <th>4</th>\n",
       "      <td>172.30.5.240</td>\n",
       "      <td>vbogevokemp02</td>\n",
       "      <td>Memory utilization</td>\n",
       "      <td>2024-11-21 20:32:49+00:00</td>\n",
       "      <td>host_metrics</td>\n",
       "      <td>memory</td>\n",
       "      <td>33.450832</td>\n",
       "    </tr>\n",
       "  </tbody>\n",
       "</table>\n",
       "</div>"
      ],
      "text/plain": [
       "        hots_ip       host_name                name                 timestamp  \\\n",
       "0  172.30.5.133  vbogdtlobsvp03     CPU utilization 2024-11-21 20:32:47+00:00   \n",
       "1  172.30.5.201   vbogevokeml01     CPU utilization 2024-11-21 20:32:49+00:00   \n",
       "2  172.30.5.131  vbogdtlobsvp01  Memory utilization 2024-11-21 20:32:50+00:00   \n",
       "3  172.30.5.200    vbogmosbkp01  Memory utilization 2024-11-21 20:32:48+00:00   \n",
       "4  172.30.5.240   vbogevokemp02  Memory utilization 2024-11-21 20:32:49+00:00   \n",
       "\n",
       "           type host_metric_detail      value  \n",
       "0  host_metrics                cpu   5.282164  \n",
       "1  host_metrics                cpu  10.214254  \n",
       "2  host_metrics             memory  29.665005  \n",
       "3  host_metrics             memory  28.104885  \n",
       "4  host_metrics             memory  33.450832  "
      ]
     },
     "execution_count": 62,
     "metadata": {},
     "output_type": "execute_result"
    }
   ],
   "source": [
    "processed_data = []\n",
    "for idx, item in enumerate(data['hits']['hits']):\n",
    "\n",
    "    value = item['_source'] \n",
    "\n",
    "    try: \n",
    "        processed_data.append({\n",
    "        'hots_ip': value['host_ip'],\n",
    "        'host_name': value['host_name'],\n",
    "        'name': value['name'],\n",
    "        'timestamp': \n",
    "        datetime.fromisoformat(value['@timestamp'].replace(\"Z\", \"+00:00\")),\n",
    "        'type': value['type'],\n",
    "        'host_metric_detail': value['host_metric_detail'],                                                                             \n",
    "        'value': float(value['value'])\n",
    "        })\n",
    "    except:\n",
    "        print(value)\n",
    "\n",
    "df = pd.DataFrame(processed_data)\n",
    "\n",
    "df.head()"
   ]
  },
  {
   "cell_type": "code",
   "execution_count": 63,
   "metadata": {},
   "outputs": [
    {
     "data": {
      "text/plain": [
       "['hots_ip',\n",
       " 'host_name',\n",
       " 'name',\n",
       " 'timestamp',\n",
       " 'type',\n",
       " 'host_metric_detail',\n",
       " 'value']"
      ]
     },
     "execution_count": 63,
     "metadata": {},
     "output_type": "execute_result"
    }
   ],
   "source": [
    "list(df.columns)"
   ]
  },
  {
   "cell_type": "code",
   "execution_count": 64,
   "metadata": {},
   "outputs": [],
   "source": [
    "# Save table \n",
    "df.to_csv('./data/JSON.csv')"
   ]
  }
 ],
 "metadata": {
  "kernelspec": {
   "display_name": "venv",
   "language": "python",
   "name": "python3"
  },
  "language_info": {
   "codemirror_mode": {
    "name": "ipython",
    "version": 3
   },
   "file_extension": ".py",
   "mimetype": "text/x-python",
   "name": "python",
   "nbconvert_exporter": "python",
   "pygments_lexer": "ipython3",
   "version": "3.10.12"
  }
 },
 "nbformat": 4,
 "nbformat_minor": 2
}
