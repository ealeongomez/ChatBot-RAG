{
 "cells": [
  {
   "cell_type": "code",
   "execution_count": 13,
   "metadata": {},
   "outputs": [],
   "source": [
    "import json\n",
    "import pandas as pd\n"
   ]
  },
  {
   "cell_type": "code",
   "execution_count": 3,
   "metadata": {},
   "outputs": [],
   "source": [
    "with open('./data/response_data.json', 'r') as file:\n",
    "    data = json.load(file)"
   ]
  },
  {
   "cell_type": "code",
   "execution_count": null,
   "metadata": {},
   "outputs": [],
   "source": [
    "processed_data = []\n",
    "for idx, item in enumerate(data['aggregations']['hosts']['buckets']):\n",
    "    \n",
    "    key = item.get('key', False)\n",
    "    doc_count = item.get('doc_count', False)\n",
    "    hits = item.get('most_recent', {}).get('hits', {}).get('hits', [{}])\n",
    "    recent_hit = hits[0].get('_source', {})\n",
    "    \n",
    "    processed_data.append({\n",
    "        'key': key,\n",
    "        'doc_count': doc_count\n",
    "\n",
    "    })\n",
    "    \n",
    "\n",
    "    \"\"\"\n",
    "    processed_data.append({\n",
    "        'key': key,\n",
    "        'doc_count': doc_count,\n",
    "        'datatype': recent_hit.get('datatype', False),\n",
    "        '@timestamp': recent_hit.get('@timestamp', False),\n",
    "        'value': recent_hit.get('value', False),\n",
    "        'host_ip': recent_hit.get('host_ip', False),\n",
    "        'host_name': recent_hit.get('host_name', False),\n",
    "    })\n",
    "    \"\"\"\n",
    "           \n",
    "#df = pd.DataFrame(processed_data)"
   ]
  },
  {
   "cell_type": "code",
   "execution_count": 22,
   "metadata": {},
   "outputs": [
    {
     "name": "stdout",
     "output_type": "stream",
     "text": [
      "               key  doc_count datatype                @timestamp  \\\n",
      "0    vbogevokesp03      39041     uint  2024-11-15T17:25:53.000Z   \n",
      "1    vbogevokesp04      38933     uint  2024-11-15T17:25:57.000Z   \n",
      "2    vbogevokesl01      36344     uint  2024-11-15T17:25:58.000Z   \n",
      "3    vbogmoswebp02      34410    float  2024-11-15T17:25:55.000Z   \n",
      "4    vbogevokesp02      33033     uint  2024-11-15T17:25:46.000Z   \n",
      "5    vbogevokesl04      32420     uint  2024-11-15T17:25:58.000Z   \n",
      "6    vbogevokesp01      31068    float  2024-11-15T17:25:59.000Z   \n",
      "7    Zabbix server      30508    float  2024-11-15T17:25:58.000Z   \n",
      "8    vbogevokesl03      29570    float  2024-11-15T17:25:59.000Z   \n",
      "9    vbogevokesl02      28419     uint  2024-11-15T17:25:59.000Z   \n",
      "10  vbogdtlobsvp01      25473    float  2024-11-15T17:25:55.000Z   \n",
      "11  vbogdtlobsvp07      24366     uint  2024-11-15T17:25:50.000Z   \n",
      "12   vbogmosrasp01      24335     uint  2024-11-15T17:25:54.000Z   \n",
      "13   vbogmosintp01      23430     uint  2024-11-15T17:25:45.000Z   \n",
      "14  vbogdtlobsvp02      23045     uint  2024-11-15T17:25:58.000Z   \n",
      "15  vbogdtlobsvp06      23009     uint  2024-11-15T17:25:59.000Z   \n",
      "16  vbogdtlobsvp03      22719     uint  2024-11-15T17:25:59.000Z   \n",
      "17  vbogdtlobsvp05      22279    float  2024-11-15T17:25:59.000Z   \n",
      "18  vbogdtlobsvp09      21937     uint  2024-11-15T17:25:47.000Z   \n",
      "19   vbogevokemp02      21290     uint  2024-11-15T17:25:50.000Z   \n",
      "20   vbogevokemp01      21190     uint  2024-11-15T17:25:59.000Z   \n",
      "21   vbogevokeml01      20960     uint  2024-11-15T17:25:59.000Z   \n",
      "22   vbogmosmonp02      20840     uint  2024-11-15T17:25:58.000Z   \n",
      "23   vbogmoswebl01      19883     uint  2024-11-15T17:25:54.000Z   \n",
      "24   vbogmosmonp03      19147     uint  2024-11-15T17:25:48.000Z   \n",
      "25   vbogmosgesp01      18919    float  2024-11-15T17:25:58.000Z   \n",
      "26   vbogmosmonp01      18151     uint  2024-11-15T17:25:59.000Z   \n",
      "27  vbogmosk8mig02      17938     uint  2024-11-15T17:25:59.000Z   \n",
      "28   vbogevolfsp01      17225     uint  2024-11-15T17:25:54.000Z   \n",
      "29   vbogmosrepp01      17183     uint  2024-11-15T17:25:59.000Z   \n",
      "30  vbogdtlobsvp08      17135     uint  2024-11-15T17:25:57.000Z   \n",
      "31       collector      17018     uint  2024-11-15T17:25:54.000Z   \n",
      "32   vbogmoscomp01      16905     uint  2024-11-15T17:25:59.000Z   \n",
      "33   vbogmoswebp01      16555    float  2024-11-15T17:25:53.000Z   \n",
      "34   vbogmoststp01      16335    float  2024-11-15T17:25:59.000Z   \n",
      "35   vbogmosvbsp01      15912     uint  2024-11-15T17:25:59.000Z   \n",
      "36   vbogmosrasp02      15814    float  2024-11-15T17:25:59.000Z   \n",
      "37   vbogevoprxp01      15525     uint  2024-11-15T17:25:57.000Z   \n",
      "38   vbogmosmatp01      15255     uint  2024-11-15T17:25:56.000Z   \n",
      "39   vbogmosnagp01      15065     uint  2024-11-15T17:25:55.000Z   \n",
      "40   vbogmosansp01      14933    float  2024-11-15T17:25:59.000Z   \n",
      "41    vbogmosbkp01      14837     uint  2024-11-15T17:25:57.000Z   \n",
      "42   vbogmosdevp01      14820     uint  2024-11-15T17:25:55.000Z   \n",
      "43  vbogdtlobsvp04      14405     uint  2024-11-15T17:25:59.000Z   \n",
      "44   vbogmosipap01      13345     uint  2024-11-15T17:25:52.000Z   \n",
      "45  vbogmosk8mig03       1260     uint  2024-11-15T17:25:08.000Z   \n",
      "\n",
      "           value       host_ip       host_name  \n",
      "0   3.270024e+06  172.30.5.233   vbogevokesp03  \n",
      "1   5.921683e+06  172.30.5.234   vbogevokesp04  \n",
      "2   3.000000e+00  172.30.5.202   vbogevokesl01  \n",
      "3   0.000000e+00  172.30.5.101   vbogmoswebp02  \n",
      "4   3.270011e+06  172.30.5.232   vbogevokesp02  \n",
      "5   0.000000e+00  172.30.5.205   vbogevokesl04  \n",
      "6   2.874986e+03  172.30.5.231   vbogevokesp01  \n",
      "7   1.397835e+00     127.0.0.1   Zabbix server  \n",
      "8   6.100000e-01  172.30.5.204   vbogevokesl03  \n",
      "9   1.000000e+00  172.30.5.203   vbogevokesl02  \n",
      "10  0.000000e+00  172.30.5.131  vbogdtlobsvp01  \n",
      "11  3.269970e+06  172.30.5.137  vbogdtlobsvp07  \n",
      "12  3.000000e+00   172.30.5.34   vbogmosrasp01  \n",
      "13  3.278431e+06  172.30.5.100   vbogmosintp01  \n",
      "14  1.000000e+00  172.30.5.132  vbogdtlobsvp02  \n",
      "15  3.000000e+00  172.30.5.136  vbogdtlobsvp06  \n",
      "16  1.605091e+10  172.30.5.133  vbogdtlobsvp03  \n",
      "17  2.000000e-01  172.30.5.135  vbogdtlobsvp05  \n",
      "18  1.000000e+00  172.30.5.139  vbogdtlobsvp09  \n",
      "19  1.000000e+00  172.30.5.240   vbogevokemp02  \n",
      "20  5.921687e+06  172.30.5.230   vbogevokemp01  \n",
      "21  3.278375e+06  172.30.5.201   vbogevokeml01  \n",
      "22  5.920769e+06    172.30.5.7   vbogmosmonp02  \n",
      "23  5.797387e+06  172.30.5.102   vbogmoswebl01  \n",
      "24  3.278095e+06   172.30.5.70   vbogmosmonp03  \n",
      "25  3.051639e+03    172.30.5.2   vbogmosgesp01  \n",
      "26  1.257847e+10  172.30.5.250   vbogmosmonp01  \n",
      "27  1.225278e+10  172.30.5.212  vbogmosk8mig02  \n",
      "28  1.000000e+00  172.30.5.199   vbogevolfsp01  \n",
      "29  2.553184e+09   172.30.5.20   vbogmosrepp01  \n",
      "30  3.269971e+06  172.30.5.138  vbogdtlobsvp08  \n",
      "31  1.000000e+00  172.30.5.246       collector  \n",
      "32  1.183744e+06   172.30.5.60   vbogmoscomp01  \n",
      "33  0.000000e+00   172.30.5.40   vbogmoswebp01  \n",
      "34  7.724777e-01  172.30.5.249   vbogmoststp01  \n",
      "35  1.228800e+04   172.30.5.41   vbogmosvbsp01  \n",
      "36  0.000000e+00   172.30.5.31   vbogmosrasp02  \n",
      "37  1.000000e+00  172.30.5.241   vbogevoprxp01  \n",
      "38  2.147480e+09   172.30.5.50   vbogmosmatp01  \n",
      "39  3.278092e+06    172.30.5.6   vbogmosnagp01  \n",
      "40  1.817444e+02  172.30.5.251   vbogmosansp01  \n",
      "41  2.143285e+09  172.30.5.200    vbogmosbkp01  \n",
      "42  5.921651e+06  172.30.5.254   vbogmosdevp01  \n",
      "43  3.269667e+06  172.30.5.134  vbogdtlobsvp04  \n",
      "44  3.278435e+06  172.30.5.252   vbogmosipap01  \n",
      "45  0.000000e+00  172.30.5.213  vbogmosk8mig03  \n"
     ]
    }
   ],
   "source": [
    "print(df)"
   ]
  },
  {
   "cell_type": "code",
   "execution_count": 23,
   "metadata": {},
   "outputs": [
    {
     "data": {
      "text/plain": [
       "Index(['key', 'doc_count', 'datatype', '@timestamp', 'value', 'host_ip',\n",
       "       'host_name'],\n",
       "      dtype='object')"
      ]
     },
     "execution_count": 23,
     "metadata": {},
     "output_type": "execute_result"
    }
   ],
   "source": [
    "df.columns"
   ]
  }
 ],
 "metadata": {
  "kernelspec": {
   "display_name": "venv",
   "language": "python",
   "name": "python3"
  },
  "language_info": {
   "codemirror_mode": {
    "name": "ipython",
    "version": 3
   },
   "file_extension": ".py",
   "mimetype": "text/x-python",
   "name": "python",
   "nbconvert_exporter": "python",
   "pygments_lexer": "ipython3",
   "version": "3.10.12"
  }
 },
 "nbformat": 4,
 "nbformat_minor": 2
}
